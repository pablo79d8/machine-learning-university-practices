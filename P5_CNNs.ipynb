{
 "cells": [
  {
   "cell_type": "markdown",
   "metadata": {},
   "source": [
    "# Práctica 5\n",
    "### Redes neuronales convolutivas"
   ]
  },
  {
   "cell_type": "code",
   "execution_count": 54,
   "metadata": {},
   "outputs": [],
   "source": [
    "from scipy.io import arff\n",
    "import torchvision.transforms as transforms\n",
    "import torchvision\n",
    "import torch"
   ]
  },
  {
   "cell_type": "code",
   "execution_count": 55,
   "metadata": {},
   "outputs": [],
   "source": [
    "train_set = torchvision.datasets.FashionMNIST(root = '../datos/FashionMNIST', download = True, train = True, transform = transforms.Compose([transforms.ToTensor()]))\n",
    "test_set = torchvision.datasets.FashionMNIST(root = '../datos/FashionMNIST', download=True, train=False, transform = transforms.Compose([transforms.ToTensor()]))"
   ]
  },
  {
   "cell_type": "code",
   "execution_count": 56,
   "metadata": {},
   "outputs": [],
   "source": [
    "bandeja = 32\n",
    "train_loader = torch.utils.data.DataLoader(train_set,shuffle=True, batch_size=bandeja)\n",
    "train_accuracy_loader = torch.utils.data.DataLoader(train_set, batch_size=6000)\n",
    "test_loader = torch.utils.data.DataLoader(test_set,batch_size=1000)"
   ]
  },
  {
   "cell_type": "code",
   "execution_count": 57,
   "metadata": {},
   "outputs": [],
   "source": [
    "from torch.utils.data import Dataset"
   ]
  },
  {
   "cell_type": "code",
   "execution_count": 58,
   "metadata": {},
   "outputs": [],
   "source": [
    "class Flatten_Dataset(Dataset):\n",
    " def __init__(self, images, labels):\n",
    "    self.images = images\n",
    "    self.labels = labels\n",
    " def __len__(self):\n",
    "    return self.images.shape[0]\n",
    " def __getitem__(self, idx):\n",
    "    return self.images[idx], self.labels[idx]"
   ]
  },
  {
   "cell_type": "code",
   "execution_count": 59,
   "metadata": {},
   "outputs": [],
   "source": [
    "train_images = torch.zeros((len(train_loader.dataset), 28*28), dtype=torch.float32)\n",
    "train_labels = torch.empty(len(train_loader.dataset), dtype=torch.long)\n",
    "for i, (image, label) in enumerate(train_loader.dataset):\n",
    "\ttrain_images[i] = torch.flatten(image)\n",
    "\ttrain_labels[i] = label"
   ]
  },
  {
   "cell_type": "code",
   "execution_count": 60,
   "metadata": {},
   "outputs": [],
   "source": [
    "import torch.nn as nn\n",
    "import torch.optim as optim\n",
    "import tqdm"
   ]
  },
  {
   "cell_type": "code",
   "execution_count": 61,
   "metadata": {},
   "outputs": [],
   "source": [
    "class Network(nn.Module):\n",
    "    def __init__(self):\n",
    "        super(Network,self).__init__()\n",
    "        self.conv1 = nn.Conv2d(in_channels=1,out_channels=16,kernel_size=3)\n",
    "        self.conv2 = nn.Conv2d(in_channels=16,out_channels=32,kernel_size=3)\n",
    "        self.conv3 = nn.Conv2d(in_channels=32,out_channels=64,kernel_size=3)\n",
    "        self.conv4 = nn.Conv2d(in_channels=64,out_channels=128,kernel_size=3)\n",
    "\n",
    "        self.relu = nn.LeakyReLU()\n",
    "\n",
    "        self.pool = nn.MaxPool2d(kernel_size=2,stride=2)\n",
    "        self.fc1 = nn.Linear(in_features=4*4*128,out_features=128)\n",
    "        self.out = nn.Linear(in_features=128,out_features=10)\n",
    "\n",
    "\n",
    "    def forward(self,x):\n",
    "        #first CNN layer\n",
    "        x = self.conv1(x)\n",
    "        x = self.relu(x)\n",
    "        x = self.conv2(x)\n",
    "        x = self.relu(x)\n",
    "        x = self.pool(x)\n",
    "        #second CNN layer\n",
    "        x = self.conv3(x)\n",
    "        x = self.relu(x)\n",
    "        x = self.conv4(x)\n",
    "        x = self.relu(x)\n",
    "        x = self.pool(x)\n",
    "\n",
    "        #mlp hidden layer\n",
    "        x = torch.flatten(x, start_dim=1)\n",
    "        x = self.fc1(x)\n",
    "        x = self.relu(x)\n",
    "\n",
    "        #output layer\n",
    "        x = self.out(x)\n",
    "        return x"
   ]
  },
  {
   "cell_type": "code",
   "execution_count": 62,
   "metadata": {},
   "outputs": [
    {
     "data": {
      "text/plain": [
       "torch.Size([32, 128, 4, 4])"
      ]
     },
     "execution_count": 62,
     "metadata": {},
     "output_type": "execute_result"
    }
   ],
   "source": [
    "model = Network()\n",
    "\n",
    "xx, yy = next(iter(train_loader))\n",
    "x1 = model.pool(model.relu(model.conv2(model.relu(model.conv1(xx)))))\n",
    "x2 = model.pool(model.relu(model.conv4(model.relu(model.conv3(x1)))))\n",
    "x2.shape"
   ]
  },
  {
   "cell_type": "code",
   "execution_count": 63,
   "metadata": {},
   "outputs": [],
   "source": [
    "from torchsummary import summary"
   ]
  },
  {
   "cell_type": "code",
   "execution_count": 64,
   "metadata": {},
   "outputs": [
    {
     "name": "stdout",
     "output_type": "stream",
     "text": [
      "----------------------------------------------------------------\n",
      "        Layer (type)               Output Shape         Param #\n",
      "================================================================\n",
      "            Conv2d-1           [-1, 16, 26, 26]             160\n",
      "         LeakyReLU-2           [-1, 16, 26, 26]               0\n",
      "            Conv2d-3           [-1, 32, 24, 24]           4,640\n",
      "         LeakyReLU-4           [-1, 32, 24, 24]               0\n",
      "         MaxPool2d-5           [-1, 32, 12, 12]               0\n",
      "            Conv2d-6           [-1, 64, 10, 10]          18,496\n",
      "         LeakyReLU-7           [-1, 64, 10, 10]               0\n",
      "            Conv2d-8            [-1, 128, 8, 8]          73,856\n",
      "         LeakyReLU-9            [-1, 128, 8, 8]               0\n",
      "        MaxPool2d-10            [-1, 128, 4, 4]               0\n",
      "           Linear-11                  [-1, 128]         262,272\n",
      "        LeakyReLU-12                  [-1, 128]               0\n",
      "           Linear-13                   [-1, 10]           1,290\n",
      "================================================================\n",
      "Total params: 360,714\n",
      "Trainable params: 360,714\n",
      "Non-trainable params: 0\n",
      "----------------------------------------------------------------\n",
      "Input size (MB): 0.00\n",
      "Forward/backward pass size (MB): 0.72\n",
      "Params size (MB): 1.38\n",
      "Estimated Total Size (MB): 2.10\n",
      "----------------------------------------------------------------\n"
     ]
    }
   ],
   "source": [
    "device = torch.device('cuda' if torch.cuda.is_available() else 'cpu')\n",
    "model.to(device)\n",
    "summary(model, input_size= (1,28,28))"
   ]
  },
  {
   "cell_type": "code",
   "execution_count": 65,
   "metadata": {},
   "outputs": [],
   "source": [
    "X_train, y_train = next(iter(train_accuracy_loader))\n",
    "X_test, y_test = next(iter(test_loader))"
   ]
  },
  {
   "cell_type": "code",
   "execution_count": 68,
   "metadata": {},
   "outputs": [
    {
     "name": "stdout",
     "output_type": "stream",
     "text": [
      "Epoch:  0\n"
     ]
    },
    {
     "name": "stderr",
     "output_type": "stream",
     "text": [
      "  0%|          | 0/1875 [00:00<?, ?it/s]"
     ]
    },
    {
     "name": "stderr",
     "output_type": "stream",
     "text": [
      "100%|██████████| 1875/1875 [00:10<00:00, 180.86it/s]\n"
     ]
    },
    {
     "name": "stdout",
     "output_type": "stream",
     "text": [
      "Train Loss: 4.40923 \tTrain Accuracy: 0.83960\n",
      "Epoch:  1\n"
     ]
    },
    {
     "name": "stderr",
     "output_type": "stream",
     "text": [
      "100%|██████████| 1875/1875 [00:10<00:00, 174.06it/s]\n"
     ]
    },
    {
     "name": "stdout",
     "output_type": "stream",
     "text": [
      "Train Loss: 4.25679 \tTrain Accuracy: 0.84782\n",
      "Epoch:  2\n"
     ]
    },
    {
     "name": "stderr",
     "output_type": "stream",
     "text": [
      "100%|██████████| 1875/1875 [00:09<00:00, 194.69it/s]\n"
     ]
    },
    {
     "name": "stdout",
     "output_type": "stream",
     "text": [
      "Train Loss: 4.05404 \tTrain Accuracy: 0.85438\n",
      "Epoch:  3\n"
     ]
    },
    {
     "name": "stderr",
     "output_type": "stream",
     "text": [
      "100%|██████████| 1875/1875 [00:09<00:00, 190.84it/s]\n"
     ]
    },
    {
     "name": "stdout",
     "output_type": "stream",
     "text": [
      "Train Loss: 3.98484 \tTrain Accuracy: 0.85745\n",
      "Epoch:  4\n"
     ]
    },
    {
     "name": "stderr",
     "output_type": "stream",
     "text": [
      "100%|██████████| 1875/1875 [00:08<00:00, 220.78it/s]\n"
     ]
    },
    {
     "name": "stdout",
     "output_type": "stream",
     "text": [
      "Train Loss: 3.86353 \tTrain Accuracy: 0.86267\n",
      "Epoch:  5\n"
     ]
    },
    {
     "name": "stderr",
     "output_type": "stream",
     "text": [
      "100%|██████████| 1875/1875 [00:09<00:00, 194.89it/s]\n"
     ]
    },
    {
     "name": "stdout",
     "output_type": "stream",
     "text": [
      "Train Loss: 3.80301 \tTrain Accuracy: 0.86312\n",
      "Epoch:  6\n"
     ]
    },
    {
     "name": "stderr",
     "output_type": "stream",
     "text": [
      "100%|██████████| 1875/1875 [00:09<00:00, 195.32it/s]\n"
     ]
    },
    {
     "name": "stdout",
     "output_type": "stream",
     "text": [
      "Train Loss: 3.74913 \tTrain Accuracy: 0.86548\n",
      "Epoch:  7\n"
     ]
    },
    {
     "name": "stderr",
     "output_type": "stream",
     "text": [
      "100%|██████████| 1875/1875 [00:09<00:00, 189.24it/s]\n"
     ]
    },
    {
     "name": "stdout",
     "output_type": "stream",
     "text": [
      "Train Loss: 3.68526 \tTrain Accuracy: 0.86740\n",
      "Epoch:  8\n"
     ]
    },
    {
     "name": "stderr",
     "output_type": "stream",
     "text": [
      "100%|██████████| 1875/1875 [00:09<00:00, 189.19it/s]\n"
     ]
    },
    {
     "name": "stdout",
     "output_type": "stream",
     "text": [
      "Train Loss: 3.63638 \tTrain Accuracy: 0.86952\n",
      "Epoch:  9\n"
     ]
    },
    {
     "name": "stderr",
     "output_type": "stream",
     "text": [
      "100%|██████████| 1875/1875 [00:09<00:00, 197.32it/s]\n"
     ]
    },
    {
     "name": "stdout",
     "output_type": "stream",
     "text": [
      "Train Loss: 3.57531 \tTrain Accuracy: 0.87170\n",
      "Epoch:  10\n"
     ]
    },
    {
     "name": "stderr",
     "output_type": "stream",
     "text": [
      "100%|██████████| 1875/1875 [00:09<00:00, 204.34it/s]\n"
     ]
    },
    {
     "name": "stdout",
     "output_type": "stream",
     "text": [
      "Train Loss: 3.53692 \tTrain Accuracy: 0.87337\n",
      "Epoch:  11\n"
     ]
    },
    {
     "name": "stderr",
     "output_type": "stream",
     "text": [
      "100%|██████████| 1875/1875 [00:09<00:00, 198.06it/s]\n"
     ]
    },
    {
     "name": "stdout",
     "output_type": "stream",
     "text": [
      "Train Loss: 3.51100 \tTrain Accuracy: 0.87388\n",
      "Epoch:  12\n"
     ]
    },
    {
     "name": "stderr",
     "output_type": "stream",
     "text": [
      "100%|██████████| 1875/1875 [00:10<00:00, 187.17it/s]\n"
     ]
    },
    {
     "name": "stdout",
     "output_type": "stream",
     "text": [
      "Train Loss: 3.47434 \tTrain Accuracy: 0.87562\n",
      "Epoch:  13\n"
     ]
    },
    {
     "name": "stderr",
     "output_type": "stream",
     "text": [
      "100%|██████████| 1875/1875 [00:11<00:00, 166.12it/s]\n"
     ]
    },
    {
     "name": "stdout",
     "output_type": "stream",
     "text": [
      "Train Loss: 3.46503 \tTrain Accuracy: 0.87522\n",
      "Epoch:  14\n"
     ]
    },
    {
     "name": "stderr",
     "output_type": "stream",
     "text": [
      "100%|██████████| 1875/1875 [00:09<00:00, 189.49it/s]\n"
     ]
    },
    {
     "name": "stdout",
     "output_type": "stream",
     "text": [
      "Train Loss: 3.40731 \tTrain Accuracy: 0.87885\n",
      "Epoch:  15\n"
     ]
    },
    {
     "name": "stderr",
     "output_type": "stream",
     "text": [
      "100%|██████████| 1875/1875 [00:10<00:00, 181.08it/s]\n"
     ]
    },
    {
     "name": "stdout",
     "output_type": "stream",
     "text": [
      "Train Loss: 3.39830 \tTrain Accuracy: 0.87840\n",
      "Epoch:  16\n"
     ]
    },
    {
     "name": "stderr",
     "output_type": "stream",
     "text": [
      "100%|██████████| 1875/1875 [00:09<00:00, 194.72it/s]\n"
     ]
    },
    {
     "name": "stdout",
     "output_type": "stream",
     "text": [
      "Train Loss: 3.36256 \tTrain Accuracy: 0.87968\n",
      "Epoch:  17\n"
     ]
    },
    {
     "name": "stderr",
     "output_type": "stream",
     "text": [
      "100%|██████████| 1875/1875 [00:09<00:00, 190.28it/s]\n"
     ]
    },
    {
     "name": "stdout",
     "output_type": "stream",
     "text": [
      "Train Loss: 3.35416 \tTrain Accuracy: 0.88015\n",
      "Epoch:  18\n"
     ]
    },
    {
     "name": "stderr",
     "output_type": "stream",
     "text": [
      "100%|██████████| 1875/1875 [00:10<00:00, 183.73it/s]\n"
     ]
    },
    {
     "name": "stdout",
     "output_type": "stream",
     "text": [
      "Train Loss: 3.32349 \tTrain Accuracy: 0.88063\n",
      "Epoch:  19\n"
     ]
    },
    {
     "name": "stderr",
     "output_type": "stream",
     "text": [
      "100%|██████████| 1875/1875 [00:11<00:00, 170.35it/s]\n"
     ]
    },
    {
     "name": "stdout",
     "output_type": "stream",
     "text": [
      "Train Loss: 3.30734 \tTrain Accuracy: 0.88175\n",
      " Val Loss: 3.64674 \t Test Accuracy: 0.86990 \tLearning Rate: 0.001\n"
     ]
    }
   ],
   "source": [
    "import numpy as np\n",
    "\n",
    "criterion = nn.CrossEntropyLoss()\n",
    "optimizer = optim.Adagrad(model.parameters(), lr=0.001)\n",
    "\n",
    "train_accuracy = []\n",
    "train_loss = []\n",
    "test_accuracy = []\n",
    "test_loss = []\n",
    "learning_rate = []\n",
    "\n",
    "epochs = 20\n",
    "for i in range(epochs):\n",
    "   print(\"Epoch: \", i)\n",
    "   model.train(True)\n",
    "   for images, targets in tqdm.tqdm(train_loader):\n",
    "      images, targets = images.to(device), targets.to(device)  # Move to device\n",
    "      # making predictions\n",
    "      y_pred = model(images)\n",
    "      # calculating loss\n",
    "      loss = criterion(y_pred, targets.long())\n",
    "      # backprop\n",
    "      optimizer.zero_grad()\n",
    "      loss.backward()\n",
    "      optimizer.step()\n",
    "\n",
    "   with torch.no_grad():\n",
    "      aciertos = 0\n",
    "      muestras = 0\n",
    "      perdidas = 0.0\n",
    "      for X_train, y_train in train_accuracy_loader:\n",
    "         X_train, y_train = X_train.to(device), y_train  # Move to device\n",
    "         y_train_pred = model(X_train)\n",
    "         aciertos += np.sum((y_train == y_train_pred.cpu().argmax(dim=1)).numpy())\n",
    "         muestras += X_train.shape[0]\n",
    "         perdidas += criterion(y_train_pred.cpu(), y_train.long()).numpy()\n",
    "\n",
    "   train_accuracy.append(aciertos/muestras)\n",
    "   train_loss.append(perdidas)\n",
    "\n",
    "   print('Train Loss: {0:.5f}'.format(train_loss[-1]), '\\tTrain Accuracy: {0:.5f}'.format(train_accuracy[-1]))\n",
    "\n",
    "with torch.no_grad():\n",
    "   aciertos = 0\n",
    "   muestras = 0\n",
    "   perdidas = 0.0\n",
    "   for X_test, y_test in test_loader:\n",
    "      X_test, y_test = X_test.to(device), y_test.cpu()  # Move to device\n",
    "      y_test_pred = model(X_test)\n",
    "\n",
    "      aciertos += np.sum((y_test == y_test_pred.cpu().argmax(dim=1)).numpy())\n",
    "      muestras += X_test.shape[0]\n",
    "      perdidas += criterion(y_test_pred.cpu(), y_test.long()).numpy()\n",
    "\n",
    "test_accuracy.append(aciertos/muestras)\n",
    "test_loss.append(perdidas)\n",
    "\n",
    "learning_rate.append(optimizer.param_groups[0]['lr'])\n",
    "print(' Val Loss: {0:.5f}'.format(test_loss[-1]), '\\t Test Accuracy: {0:.5f}'.format(test_accuracy[-1]), \"\\tLearning Rate:\", learning_rate[-1])\n",
    "\n",
    "\n",
    "\n"
   ]
  },
  {
   "cell_type": "markdown",
   "metadata": {},
   "source": [
    "CNN2d(in=1, out=16, kernel=3)\n",
    "\n",
    "28x28x1 ---CNN1x16--> 16x26x26 ---CNN16x32--> 32x24x24 ---POOL2x2--> 32x12x12 ---CNN32X64--> 64x10x10 ---CNN64x128--> 128x8x8 ---POOL2x2---> 128x4x4"
   ]
  },
  {
   "cell_type": "code",
   "execution_count": 71,
   "metadata": {},
   "outputs": [
    {
     "data": {
      "image/png": "[encoded data removed]",
      "text/plain": [
       "<Figure size 1200x500 with 2 Axes>"
      ]
     },
     "metadata": {},
     "output_type": "display_data"
    }
   ],
   "source": [
    "import matplotlib.pyplot as plt\n",
    "\n",
    "# Plotting Train Loss and Test Loss\n",
    "plt.figure(figsize=(12, 5))\n",
    "\n",
    "plt.subplot(1, 2, 1)\n",
    "plt.plot(train_loss, label='Train Loss')\n",
    "plt.plot(test_loss, label='Test Loss')\n",
    "plt.xlabel('Epochs')\n",
    "plt.ylabel('Loss')\n",
    "plt.title('Train Loss vs Test Loss')\n",
    "plt.legend()\n",
    "\n",
    "# Plotting Train Accuracy and Test Accuracy\n",
    "plt.subplot(1, 2, 2)\n",
    "plt.plot(train_accuracy, label='Train Accuracy')\n",
    "plt.plot(test_accuracy, label='Test Accuracy')\n",
    "plt.xlabel('Epochs')\n",
    "plt.ylabel('Accuracy')\n",
    "plt.title('Train Accuracy vs Test Accuracy')\n",
    "plt.legend()\n",
    "\n",
    "plt.tight_layout()\n",
    "plt.show()"
   ]
  }
 ],
 "metadata": {
  "kernelspec": {
   "display_name": "base",
   "language": "python",
   "name": "python3"
  },
  "language_info": {
   "codemirror_mode": {
    "name": "ipython",
    "version": 3
   },
   "file_extension": ".py",
   "mimetype": "text/x-python",
   "name": "python",
   "nbconvert_exporter": "python",
   "pygments_lexer": "ipython3",
   "version": "3.12.4"
  }
 },
 "nbformat": 4,
 "nbformat_minor": 2
}
