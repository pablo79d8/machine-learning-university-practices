{
 "cells": [
  {
   "cell_type": "code",
   "execution_count": 15,
   "metadata": {},
   "outputs": [],
   "source": [
    "# import statements\n",
    "from sklearn.datasets import make_blobs\n",
    "import numpy as np\n",
    "import matplotlib.pyplot as plt\n",
    "import pandas as pd\n",
    "\n",
    "from sklearn.preprocessing import StandardScaler\n",
    "from sklearn.metrics import pairwise_distances\n",
    "from statistics import mode\n",
    "\n",
    "# import hierarchical clustering libraries\n",
    "from sklearn.model_selection import StratifiedKFold, train_test_split\n",
    "import scipy.cluster.hierarchy as sch\n",
    "from sklearn.cluster import AgglomerativeClustering, KMeans\n",
    "from sklearn.cluster import DBSCAN\n",
    "from sklearn_extra.cluster import KMedoids"
   ]
  },
  {
   "cell_type": "code",
   "execution_count": 2,
   "metadata": {},
   "outputs": [],
   "source": [
    "df = pd.read_table('../datos/seeds_dataset.txt', header=None)\n",
    "\n",
    "X = df.iloc[:, :-1]\n",
    "y = df.iloc[:,-1]\n",
    "\n",
    "\n",
    "scaler = StandardScaler()\n",
    "X_scaled = scaler.fit_transform(X)\n"
   ]
  },
  {
   "cell_type": "code",
   "execution_count": 3,
   "metadata": {},
   "outputs": [],
   "source": [
    "X_train, X_test, y_train, y_test = train_test_split(X_scaled, y , test_size=1/3, stratify=y)"
   ]
  },
  {
   "cell_type": "markdown",
   "metadata": {},
   "source": [
    "# KMEDIAS ENCAPSULADO"
   ]
  },
  {
   "cell_type": "code",
   "execution_count": 4,
   "metadata": {},
   "outputs": [],
   "source": [
    "def kmedias(X_train=np.array([]), y_train=np.array([]),\n",
    "            X_test=np.array([]), y_test=np.array([]), n_clusters=2, init=None):\n",
    "    km = KMeans(n_clusters=n_clusters, init=init)\n",
    "    labels_train = km.fit_predict(X_train)\n",
    "    moda = np.array([mode(y_train[labels_train == i]) for i in range(n_clusters)])\n",
    "\n",
    "    if X_test.size == 0:\n",
    "        accuracy = np.mean(moda[labels_train] == y_train)\n",
    "    else:\n",
    "        labels_test = km.predict(X_test)\n",
    "        accuracy = np.mean(moda[labels_test] == y_test)\n",
    "    return accuracy"
   ]
  },
  {
   "cell_type": "markdown",
   "metadata": {},
   "source": [
    "## Kmedias con cálculo de centros iniciales"
   ]
  },
  {
   "cell_type": "code",
   "execution_count": 5,
   "metadata": {},
   "outputs": [],
   "source": [
    "kmedias_init = KMeans(n_clusters=30) # se cogen 30 clusters porque hay 12 baricentros y hay que coger 12*1.5 adicionales\n",
    "kmedias_init.fit(X_scaled)\n",
    "kmedias_init_centros = kmedias_init.cluster_centers_\n"
   ]
  },
  {
   "cell_type": "markdown",
   "metadata": {},
   "source": [
    "Cogemos los 30 clusters y aplicamos AgglomerativeClustering para quedarnos con 12\n",
    "Se calculan los baricentros y nos quedamos con argmin de las columnas"
   ]
  },
  {
   "cell_type": "markdown",
   "metadata": {},
   "source": [
    "## Ward"
   ]
  },
  {
   "cell_type": "code",
   "execution_count": 6,
   "metadata": {},
   "outputs": [],
   "source": [
    "\n",
    "ward = AgglomerativeClustering(n_clusters=12)\n",
    "ward_labels = ward.fit_predict(kmedias_init_centros)\n",
    "\n",
    "# Use the resulting clusters' centroids as initial centers for KMeans\n",
    "ward_centros = np.array([np.mean(kmedias_init_centros[ward_labels == i], axis=0) for i in range(12)])\n",
    "\n",
    "K_init = kmedias_init_centros[np.argmin(pairwise_distances(kmedias_init_centros, ward_centros), axis=0)] #baricentros que surgen del ward\n"
   ]
  },
  {
   "cell_type": "markdown",
   "metadata": {},
   "source": [
    "### Kmedias final"
   ]
  },
  {
   "cell_type": "markdown",
   "metadata": {},
   "source": [
    "No podemos meter el K_init directamente porque son puntos ficticios"
   ]
  },
  {
   "cell_type": "code",
   "execution_count": 7,
   "metadata": {},
   "outputs": [
    {
     "data": {
      "text/plain": [
       "(12, 7)"
      ]
     },
     "execution_count": 7,
     "metadata": {},
     "output_type": "execute_result"
    }
   ],
   "source": [
    "X_scaled[np.argmin(pairwise_distances(X_scaled, K_init), axis=0)].shape"
   ]
  },
  {
   "cell_type": "code",
   "execution_count": 8,
   "metadata": {},
   "outputs": [
    {
     "data": {
      "text/plain": [
       "0.9047619047619048"
      ]
     },
     "execution_count": 8,
     "metadata": {},
     "output_type": "execute_result"
    }
   ],
   "source": [
    "kmedias(X_train = X_scaled, y_train=y, n_clusters=12, init=X_scaled[np.argmin(pairwise_distances(X_scaled, K_init), axis=0)])"
   ]
  },
  {
   "cell_type": "markdown",
   "metadata": {},
   "source": [
    "## Kmedias sin HOLD-OUT"
   ]
  },
  {
   "cell_type": "code",
   "execution_count": 9,
   "metadata": {},
   "outputs": [
    {
     "data": {
      "text/plain": [
       "0.9142857142857143"
      ]
     },
     "execution_count": 9,
     "metadata": {},
     "output_type": "execute_result"
    }
   ],
   "source": [
    "kmedias(X_train=X_scaled, y_train=y, n_clusters=12, init=\"k-means++\")"
   ]
  },
  {
   "cell_type": "markdown",
   "metadata": {},
   "source": [
    "## Kmedoids"
   ]
  },
  {
   "cell_type": "code",
   "execution_count": 14,
   "metadata": {},
   "outputs": [
    {
     "data": {
      "text/plain": [
       "0.919047619047619"
      ]
     },
     "execution_count": 14,
     "metadata": {},
     "output_type": "execute_result"
    }
   ],
   "source": [
    "kmedoides = KMedoids(n_clusters=12, init=\"k-medoids++\")\n",
    "labels_kmedoides = kmedoides.fit_predict(X_scaled)\n",
    "moda_kmedoides = np.array([mode(y[labels_kmedoides == c]) for c in range(12)])\n",
    "accuracy_kmedoides = np.mean(moda_kmedoides[labels_kmedoides]==y)\n",
    "accuracy_kmedoides"
   ]
  },
  {
   "cell_type": "markdown",
   "metadata": {},
   "source": [
    "## DBScan"
   ]
  },
  {
   "cell_type": "code",
   "execution_count": 26,
   "metadata": {},
   "outputs": [
    {
     "data": {
      "text/plain": [
       "70"
      ]
     },
     "execution_count": 26,
     "metadata": {},
     "output_type": "execute_result"
    }
   ],
   "source": [
    "dbscan = DBSCAN(eps=0.60, min_samples=2)\n",
    "dbscan.fit(X_scaled)\n",
    "dbscan.labels_\n",
    "np.sum(dbscan.labels_==-1) # estos son los puntos aislados"
   ]
  },
  {
   "cell_type": "markdown",
   "metadata": {},
   "source": [
    "### Eliminar puntos aislados"
   ]
  },
  {
   "cell_type": "code",
   "execution_count": 27,
   "metadata": {},
   "outputs": [
    {
     "data": {
      "text/plain": [
       "23"
      ]
     },
     "execution_count": 27,
     "metadata": {},
     "output_type": "execute_result"
    }
   ],
   "source": [
    "X_sin_aislados = np.delete(X_scaled, np.argwhere(dbscan.labels_==-1), axis=0)\n",
    "y_sin_aislados = np.delete(y, np.argwhere(dbscan.labels_==-1), axis=0)\n",
    "etiquetas_sin_aislados = np.array(dbscan.labels_[dbscan.labels_!= -1])\n",
    "\n",
    "np.unique(dbscan.labels_[dbscan.labels_!= -1]).shape[0]"
   ]
  },
  {
   "cell_type": "code",
   "execution_count": 32,
   "metadata": {},
   "outputs": [
    {
     "data": {
      "text/plain": [
       "0.9714285714285714"
      ]
     },
     "execution_count": 32,
     "metadata": {},
     "output_type": "execute_result"
    }
   ],
   "source": [
    "moda_dbscan = np.array([mode(y_sin_aislados[etiquetas_sin_aislados==c]) for c in np.unique(etiquetas_sin_aislados)])\n",
    "accuracy_dbscan = np.mean(moda_dbscan[etiquetas_sin_aislados]==y_sin_aislados)\n",
    "accuracy_dbscan"
   ]
  },
  {
   "cell_type": "markdown",
   "metadata": {},
   "source": [
    "Los mejores resultados se consiguen con dbscan"
   ]
  }
 ],
 "metadata": {
  "kernelspec": {
   "display_name": "base",
   "language": "python",
   "name": "python3"
  },
  "language_info": {
   "codemirror_mode": {
    "name": "ipython",
    "version": 3
   },
   "file_extension": ".py",
   "mimetype": "text/x-python",
   "name": "python",
   "nbconvert_exporter": "python",
   "pygments_lexer": "ipython3",
   "version": "3.12.4"
  }
 },
 "nbformat": 4,
 "nbformat_minor": 2
}
