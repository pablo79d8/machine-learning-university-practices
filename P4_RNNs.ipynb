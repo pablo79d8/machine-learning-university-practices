{
 "cells": [
  {
   "cell_type": "code",
   "execution_count": 1,
   "id": "58cad8f5-30fd-482c-be0f-d79f563bf390",
   "metadata": {},
   "outputs": [],
   "source": [
    "import torch"
   ]
  },
  {
   "cell_type": "code",
   "execution_count": 2,
   "id": "408a431d-cc11-4510-9c16-901d548da338",
   "metadata": {},
   "outputs": [],
   "source": [
    "device = torch.device(\"mps\")"
   ]
  },
  {
   "cell_type": "code",
   "execution_count": 3,
   "id": "ab3f8eea-7d7e-4145-8e8a-bff386fd92ba",
   "metadata": {},
   "outputs": [],
   "source": [
    "import pandas as pd\n",
    "import numpy as np\n",
    "from sklearn.preprocessing import MinMaxScaler, StandardScaler, normalize\n",
    "from sklearn.cluster import KMeans,AgglomerativeClustering\n",
    "from statistics import mode\n",
    "from sklearn.model_selection import StratifiedKFold\n",
    "from tqdm import tqdm\n",
    "import matplotlib.pyplot as plt\n",
    "from sklearn.neural_network import MLPClassifier"
   ]
  },
  {
   "cell_type": "code",
   "execution_count": 4,
   "id": "406f1386-1806-4af4-a22c-b20ca7f2a2e9",
   "metadata": {},
   "outputs": [],
   "source": [
    "iber = pd.read_excel('Iberdrola 2010-24.xls')\n",
    "df = iber"
   ]
  },
  {
   "cell_type": "code",
   "execution_count": 5,
   "id": "2f80c5a2-76e1-4ba9-b1fb-693abc5166d5",
   "metadata": {},
   "outputs": [],
   "source": [
    "df.loc[:,'cerrar'] = iber.loc[:,'cerrar']/15"
   ]
  },
  {
   "cell_type": "code",
   "execution_count": 6,
   "id": "7c655729-1f0e-4782-b1f3-6950b9093423",
   "metadata": {},
   "outputs": [
    {
     "data": {
      "text/html": [
       "<div>\n",
       "<style scoped>\n",
       "    .dataframe tbody tr th:only-of-type {\n",
       "        vertical-align: middle;\n",
       "    }\n",
       "\n",
       "    .dataframe tbody tr th {\n",
       "        vertical-align: top;\n",
       "    }\n",
       "\n",
       "    .dataframe thead th {\n",
       "        text-align: right;\n",
       "    }\n",
       "</style>\n",
       "<table border=\"1\" class=\"dataframe\">\n",
       "  <thead>\n",
       "    <tr style=\"text-align: right;\">\n",
       "      <th></th>\n",
       "      <th>Fecha</th>\n",
       "      <th>cerrar</th>\n",
       "    </tr>\n",
       "  </thead>\n",
       "  <tbody>\n",
       "    <tr>\n",
       "      <th>0</th>\n",
       "      <td>2010-01-04</td>\n",
       "      <td>0.435173</td>\n",
       "    </tr>\n",
       "    <tr>\n",
       "      <th>1</th>\n",
       "      <td>2010-01-05</td>\n",
       "      <td>0.435693</td>\n",
       "    </tr>\n",
       "    <tr>\n",
       "      <th>2</th>\n",
       "      <td>2010-01-06</td>\n",
       "      <td>0.435113</td>\n",
       "    </tr>\n",
       "    <tr>\n",
       "      <th>3</th>\n",
       "      <td>2010-01-07</td>\n",
       "      <td>0.432333</td>\n",
       "    </tr>\n",
       "    <tr>\n",
       "      <th>4</th>\n",
       "      <td>2010-01-08</td>\n",
       "      <td>0.431880</td>\n",
       "    </tr>\n",
       "    <tr>\n",
       "      <th>...</th>\n",
       "      <td>...</td>\n",
       "      <td>...</td>\n",
       "    </tr>\n",
       "    <tr>\n",
       "      <th>3817</th>\n",
       "      <td>2024-11-20</td>\n",
       "      <td>0.890000</td>\n",
       "    </tr>\n",
       "    <tr>\n",
       "      <th>3818</th>\n",
       "      <td>2024-11-21</td>\n",
       "      <td>0.888333</td>\n",
       "    </tr>\n",
       "    <tr>\n",
       "      <th>3819</th>\n",
       "      <td>2024-11-22</td>\n",
       "      <td>0.905667</td>\n",
       "    </tr>\n",
       "    <tr>\n",
       "      <th>3820</th>\n",
       "      <td>2024-11-25</td>\n",
       "      <td>0.893333</td>\n",
       "    </tr>\n",
       "    <tr>\n",
       "      <th>3821</th>\n",
       "      <td>2024-11-26</td>\n",
       "      <td>0.891667</td>\n",
       "    </tr>\n",
       "  </tbody>\n",
       "</table>\n",
       "<p>3822 rows × 2 columns</p>\n",
       "</div>"
      ],
      "text/plain": [
       "          Fecha    cerrar\n",
       "0    2010-01-04  0.435173\n",
       "1    2010-01-05  0.435693\n",
       "2    2010-01-06  0.435113\n",
       "3    2010-01-07  0.432333\n",
       "4    2010-01-08  0.431880\n",
       "...         ...       ...\n",
       "3817 2024-11-20  0.890000\n",
       "3818 2024-11-21  0.888333\n",
       "3819 2024-11-22  0.905667\n",
       "3820 2024-11-25  0.893333\n",
       "3821 2024-11-26  0.891667\n",
       "\n",
       "[3822 rows x 2 columns]"
      ]
     },
     "execution_count": 6,
     "metadata": {},
     "output_type": "execute_result"
    }
   ],
   "source": [
    "df"
   ]
  },
  {
   "cell_type": "code",
   "execution_count": 7,
   "id": "4e3aa821-efa5-4ada-9e1b-b6239b45fdc6",
   "metadata": {},
   "outputs": [],
   "source": [
    "n_steps = 20\n",
    "df.set_index('Fecha', inplace=True)\n",
    "for i in range(1, n_steps+1):\n",
    "    df[f'cerrar(t-{i})'] = df['cerrar'].shift(i)\n",
    "df.dropna(inplace=True)"
   ]
  },
  {
   "cell_type": "code",
   "execution_count": 8,
   "id": "fecb49cf-d868-4a85-9ab0-7e781b32b882",
   "metadata": {},
   "outputs": [
    {
     "data": {
      "text/html": [
       "<div>\n",
       "<style scoped>\n",
       "    .dataframe tbody tr th:only-of-type {\n",
       "        vertical-align: middle;\n",
       "    }\n",
       "\n",
       "    .dataframe tbody tr th {\n",
       "        vertical-align: top;\n",
       "    }\n",
       "\n",
       "    .dataframe thead th {\n",
       "        text-align: right;\n",
       "    }\n",
       "</style>\n",
       "<table border=\"1\" class=\"dataframe\">\n",
       "  <thead>\n",
       "    <tr style=\"text-align: right;\">\n",
       "      <th></th>\n",
       "      <th>cerrar</th>\n",
       "      <th>cerrar(t-1)</th>\n",
       "      <th>cerrar(t-2)</th>\n",
       "      <th>cerrar(t-3)</th>\n",
       "      <th>cerrar(t-4)</th>\n",
       "      <th>cerrar(t-5)</th>\n",
       "      <th>cerrar(t-6)</th>\n",
       "      <th>cerrar(t-7)</th>\n",
       "      <th>cerrar(t-8)</th>\n",
       "      <th>cerrar(t-9)</th>\n",
       "      <th>...</th>\n",
       "      <th>cerrar(t-11)</th>\n",
       "      <th>cerrar(t-12)</th>\n",
       "      <th>cerrar(t-13)</th>\n",
       "      <th>cerrar(t-14)</th>\n",
       "      <th>cerrar(t-15)</th>\n",
       "      <th>cerrar(t-16)</th>\n",
       "      <th>cerrar(t-17)</th>\n",
       "      <th>cerrar(t-18)</th>\n",
       "      <th>cerrar(t-19)</th>\n",
       "      <th>cerrar(t-20)</th>\n",
       "    </tr>\n",
       "    <tr>\n",
       "      <th>Fecha</th>\n",
       "      <th></th>\n",
       "      <th></th>\n",
       "      <th></th>\n",
       "      <th></th>\n",
       "      <th></th>\n",
       "      <th></th>\n",
       "      <th></th>\n",
       "      <th></th>\n",
       "      <th></th>\n",
       "      <th></th>\n",
       "      <th></th>\n",
       "      <th></th>\n",
       "      <th></th>\n",
       "      <th></th>\n",
       "      <th></th>\n",
       "      <th></th>\n",
       "      <th></th>\n",
       "      <th></th>\n",
       "      <th></th>\n",
       "      <th></th>\n",
       "      <th></th>\n",
       "    </tr>\n",
       "  </thead>\n",
       "  <tbody>\n",
       "    <tr>\n",
       "      <th>2010-02-01</th>\n",
       "      <td>0.400967</td>\n",
       "      <td>0.399613</td>\n",
       "      <td>0.397413</td>\n",
       "      <td>0.404980</td>\n",
       "      <td>0.410473</td>\n",
       "      <td>0.406080</td>\n",
       "      <td>0.410733</td>\n",
       "      <td>0.414613</td>\n",
       "      <td>0.420307</td>\n",
       "      <td>0.430200</td>\n",
       "      <td>...</td>\n",
       "      <td>0.425480</td>\n",
       "      <td>0.431100</td>\n",
       "      <td>0.431687</td>\n",
       "      <td>0.431620</td>\n",
       "      <td>0.431940</td>\n",
       "      <td>0.431880</td>\n",
       "      <td>0.432333</td>\n",
       "      <td>0.435113</td>\n",
       "      <td>0.435693</td>\n",
       "      <td>0.435173</td>\n",
       "    </tr>\n",
       "    <tr>\n",
       "      <th>2010-02-02</th>\n",
       "      <td>0.404400</td>\n",
       "      <td>0.400967</td>\n",
       "      <td>0.399613</td>\n",
       "      <td>0.397413</td>\n",
       "      <td>0.404980</td>\n",
       "      <td>0.410473</td>\n",
       "      <td>0.406080</td>\n",
       "      <td>0.410733</td>\n",
       "      <td>0.414613</td>\n",
       "      <td>0.420307</td>\n",
       "      <td>...</td>\n",
       "      <td>0.427613</td>\n",
       "      <td>0.425480</td>\n",
       "      <td>0.431100</td>\n",
       "      <td>0.431687</td>\n",
       "      <td>0.431620</td>\n",
       "      <td>0.431940</td>\n",
       "      <td>0.431880</td>\n",
       "      <td>0.432333</td>\n",
       "      <td>0.435113</td>\n",
       "      <td>0.435693</td>\n",
       "    </tr>\n",
       "    <tr>\n",
       "      <th>2010-02-03</th>\n",
       "      <td>0.400520</td>\n",
       "      <td>0.404400</td>\n",
       "      <td>0.400967</td>\n",
       "      <td>0.399613</td>\n",
       "      <td>0.397413</td>\n",
       "      <td>0.404980</td>\n",
       "      <td>0.410473</td>\n",
       "      <td>0.406080</td>\n",
       "      <td>0.410733</td>\n",
       "      <td>0.414613</td>\n",
       "      <td>...</td>\n",
       "      <td>0.430200</td>\n",
       "      <td>0.427613</td>\n",
       "      <td>0.425480</td>\n",
       "      <td>0.431100</td>\n",
       "      <td>0.431687</td>\n",
       "      <td>0.431620</td>\n",
       "      <td>0.431940</td>\n",
       "      <td>0.431880</td>\n",
       "      <td>0.432333</td>\n",
       "      <td>0.435113</td>\n",
       "    </tr>\n",
       "    <tr>\n",
       "      <th>2010-02-04</th>\n",
       "      <td>0.381633</td>\n",
       "      <td>0.400520</td>\n",
       "      <td>0.404400</td>\n",
       "      <td>0.400967</td>\n",
       "      <td>0.399613</td>\n",
       "      <td>0.397413</td>\n",
       "      <td>0.404980</td>\n",
       "      <td>0.410473</td>\n",
       "      <td>0.406080</td>\n",
       "      <td>0.410733</td>\n",
       "      <td>...</td>\n",
       "      <td>0.420307</td>\n",
       "      <td>0.430200</td>\n",
       "      <td>0.427613</td>\n",
       "      <td>0.425480</td>\n",
       "      <td>0.431100</td>\n",
       "      <td>0.431687</td>\n",
       "      <td>0.431620</td>\n",
       "      <td>0.431940</td>\n",
       "      <td>0.431880</td>\n",
       "      <td>0.432333</td>\n",
       "    </tr>\n",
       "    <tr>\n",
       "      <th>2010-02-05</th>\n",
       "      <td>0.377627</td>\n",
       "      <td>0.381633</td>\n",
       "      <td>0.400520</td>\n",
       "      <td>0.404400</td>\n",
       "      <td>0.400967</td>\n",
       "      <td>0.399613</td>\n",
       "      <td>0.397413</td>\n",
       "      <td>0.404980</td>\n",
       "      <td>0.410473</td>\n",
       "      <td>0.406080</td>\n",
       "      <td>...</td>\n",
       "      <td>0.414613</td>\n",
       "      <td>0.420307</td>\n",
       "      <td>0.430200</td>\n",
       "      <td>0.427613</td>\n",
       "      <td>0.425480</td>\n",
       "      <td>0.431100</td>\n",
       "      <td>0.431687</td>\n",
       "      <td>0.431620</td>\n",
       "      <td>0.431940</td>\n",
       "      <td>0.431880</td>\n",
       "    </tr>\n",
       "    <tr>\n",
       "      <th>...</th>\n",
       "      <td>...</td>\n",
       "      <td>...</td>\n",
       "      <td>...</td>\n",
       "      <td>...</td>\n",
       "      <td>...</td>\n",
       "      <td>...</td>\n",
       "      <td>...</td>\n",
       "      <td>...</td>\n",
       "      <td>...</td>\n",
       "      <td>...</td>\n",
       "      <td>...</td>\n",
       "      <td>...</td>\n",
       "      <td>...</td>\n",
       "      <td>...</td>\n",
       "      <td>...</td>\n",
       "      <td>...</td>\n",
       "      <td>...</td>\n",
       "      <td>...</td>\n",
       "      <td>...</td>\n",
       "      <td>...</td>\n",
       "      <td>...</td>\n",
       "    </tr>\n",
       "    <tr>\n",
       "      <th>2024-11-20</th>\n",
       "      <td>0.890000</td>\n",
       "      <td>0.893333</td>\n",
       "      <td>0.888667</td>\n",
       "      <td>0.892667</td>\n",
       "      <td>0.891333</td>\n",
       "      <td>0.880333</td>\n",
       "      <td>0.879000</td>\n",
       "      <td>0.891000</td>\n",
       "      <td>0.880667</td>\n",
       "      <td>0.874000</td>\n",
       "      <td>...</td>\n",
       "      <td>0.916333</td>\n",
       "      <td>0.914667</td>\n",
       "      <td>0.921667</td>\n",
       "      <td>0.909667</td>\n",
       "      <td>0.917333</td>\n",
       "      <td>0.927333</td>\n",
       "      <td>0.938000</td>\n",
       "      <td>0.930000</td>\n",
       "      <td>0.935000</td>\n",
       "      <td>0.936000</td>\n",
       "    </tr>\n",
       "    <tr>\n",
       "      <th>2024-11-21</th>\n",
       "      <td>0.888333</td>\n",
       "      <td>0.890000</td>\n",
       "      <td>0.893333</td>\n",
       "      <td>0.888667</td>\n",
       "      <td>0.892667</td>\n",
       "      <td>0.891333</td>\n",
       "      <td>0.880333</td>\n",
       "      <td>0.879000</td>\n",
       "      <td>0.891000</td>\n",
       "      <td>0.880667</td>\n",
       "      <td>...</td>\n",
       "      <td>0.877667</td>\n",
       "      <td>0.916333</td>\n",
       "      <td>0.914667</td>\n",
       "      <td>0.921667</td>\n",
       "      <td>0.909667</td>\n",
       "      <td>0.917333</td>\n",
       "      <td>0.927333</td>\n",
       "      <td>0.938000</td>\n",
       "      <td>0.930000</td>\n",
       "      <td>0.935000</td>\n",
       "    </tr>\n",
       "    <tr>\n",
       "      <th>2024-11-22</th>\n",
       "      <td>0.905667</td>\n",
       "      <td>0.888333</td>\n",
       "      <td>0.890000</td>\n",
       "      <td>0.893333</td>\n",
       "      <td>0.888667</td>\n",
       "      <td>0.892667</td>\n",
       "      <td>0.891333</td>\n",
       "      <td>0.880333</td>\n",
       "      <td>0.879000</td>\n",
       "      <td>0.891000</td>\n",
       "      <td>...</td>\n",
       "      <td>0.874000</td>\n",
       "      <td>0.877667</td>\n",
       "      <td>0.916333</td>\n",
       "      <td>0.914667</td>\n",
       "      <td>0.921667</td>\n",
       "      <td>0.909667</td>\n",
       "      <td>0.917333</td>\n",
       "      <td>0.927333</td>\n",
       "      <td>0.938000</td>\n",
       "      <td>0.930000</td>\n",
       "    </tr>\n",
       "    <tr>\n",
       "      <th>2024-11-25</th>\n",
       "      <td>0.893333</td>\n",
       "      <td>0.905667</td>\n",
       "      <td>0.888333</td>\n",
       "      <td>0.890000</td>\n",
       "      <td>0.893333</td>\n",
       "      <td>0.888667</td>\n",
       "      <td>0.892667</td>\n",
       "      <td>0.891333</td>\n",
       "      <td>0.880333</td>\n",
       "      <td>0.879000</td>\n",
       "      <td>...</td>\n",
       "      <td>0.880667</td>\n",
       "      <td>0.874000</td>\n",
       "      <td>0.877667</td>\n",
       "      <td>0.916333</td>\n",
       "      <td>0.914667</td>\n",
       "      <td>0.921667</td>\n",
       "      <td>0.909667</td>\n",
       "      <td>0.917333</td>\n",
       "      <td>0.927333</td>\n",
       "      <td>0.938000</td>\n",
       "    </tr>\n",
       "    <tr>\n",
       "      <th>2024-11-26</th>\n",
       "      <td>0.891667</td>\n",
       "      <td>0.893333</td>\n",
       "      <td>0.905667</td>\n",
       "      <td>0.888333</td>\n",
       "      <td>0.890000</td>\n",
       "      <td>0.893333</td>\n",
       "      <td>0.888667</td>\n",
       "      <td>0.892667</td>\n",
       "      <td>0.891333</td>\n",
       "      <td>0.880333</td>\n",
       "      <td>...</td>\n",
       "      <td>0.891000</td>\n",
       "      <td>0.880667</td>\n",
       "      <td>0.874000</td>\n",
       "      <td>0.877667</td>\n",
       "      <td>0.916333</td>\n",
       "      <td>0.914667</td>\n",
       "      <td>0.921667</td>\n",
       "      <td>0.909667</td>\n",
       "      <td>0.917333</td>\n",
       "      <td>0.927333</td>\n",
       "    </tr>\n",
       "  </tbody>\n",
       "</table>\n",
       "<p>3802 rows × 21 columns</p>\n",
       "</div>"
      ],
      "text/plain": [
       "              cerrar  cerrar(t-1)  cerrar(t-2)  cerrar(t-3)  cerrar(t-4)  \\\n",
       "Fecha                                                                      \n",
       "2010-02-01  0.400967     0.399613     0.397413     0.404980     0.410473   \n",
       "2010-02-02  0.404400     0.400967     0.399613     0.397413     0.404980   \n",
       "2010-02-03  0.400520     0.404400     0.400967     0.399613     0.397413   \n",
       "2010-02-04  0.381633     0.400520     0.404400     0.400967     0.399613   \n",
       "2010-02-05  0.377627     0.381633     0.400520     0.404400     0.400967   \n",
       "...              ...          ...          ...          ...          ...   \n",
       "2024-11-20  0.890000     0.893333     0.888667     0.892667     0.891333   \n",
       "2024-11-21  0.888333     0.890000     0.893333     0.888667     0.892667   \n",
       "2024-11-22  0.905667     0.888333     0.890000     0.893333     0.888667   \n",
       "2024-11-25  0.893333     0.905667     0.888333     0.890000     0.893333   \n",
       "2024-11-26  0.891667     0.893333     0.905667     0.888333     0.890000   \n",
       "\n",
       "            cerrar(t-5)  cerrar(t-6)  cerrar(t-7)  cerrar(t-8)  cerrar(t-9)  \\\n",
       "Fecha                                                                         \n",
       "2010-02-01     0.406080     0.410733     0.414613     0.420307     0.430200   \n",
       "2010-02-02     0.410473     0.406080     0.410733     0.414613     0.420307   \n",
       "2010-02-03     0.404980     0.410473     0.406080     0.410733     0.414613   \n",
       "2010-02-04     0.397413     0.404980     0.410473     0.406080     0.410733   \n",
       "2010-02-05     0.399613     0.397413     0.404980     0.410473     0.406080   \n",
       "...                 ...          ...          ...          ...          ...   \n",
       "2024-11-20     0.880333     0.879000     0.891000     0.880667     0.874000   \n",
       "2024-11-21     0.891333     0.880333     0.879000     0.891000     0.880667   \n",
       "2024-11-22     0.892667     0.891333     0.880333     0.879000     0.891000   \n",
       "2024-11-25     0.888667     0.892667     0.891333     0.880333     0.879000   \n",
       "2024-11-26     0.893333     0.888667     0.892667     0.891333     0.880333   \n",
       "\n",
       "            ...  cerrar(t-11)  cerrar(t-12)  cerrar(t-13)  cerrar(t-14)  \\\n",
       "Fecha       ...                                                           \n",
       "2010-02-01  ...      0.425480      0.431100      0.431687      0.431620   \n",
       "2010-02-02  ...      0.427613      0.425480      0.431100      0.431687   \n",
       "2010-02-03  ...      0.430200      0.427613      0.425480      0.431100   \n",
       "2010-02-04  ...      0.420307      0.430200      0.427613      0.425480   \n",
       "2010-02-05  ...      0.414613      0.420307      0.430200      0.427613   \n",
       "...         ...           ...           ...           ...           ...   \n",
       "2024-11-20  ...      0.916333      0.914667      0.921667      0.909667   \n",
       "2024-11-21  ...      0.877667      0.916333      0.914667      0.921667   \n",
       "2024-11-22  ...      0.874000      0.877667      0.916333      0.914667   \n",
       "2024-11-25  ...      0.880667      0.874000      0.877667      0.916333   \n",
       "2024-11-26  ...      0.891000      0.880667      0.874000      0.877667   \n",
       "\n",
       "            cerrar(t-15)  cerrar(t-16)  cerrar(t-17)  cerrar(t-18)  \\\n",
       "Fecha                                                                \n",
       "2010-02-01      0.431940      0.431880      0.432333      0.435113   \n",
       "2010-02-02      0.431620      0.431940      0.431880      0.432333   \n",
       "2010-02-03      0.431687      0.431620      0.431940      0.431880   \n",
       "2010-02-04      0.431100      0.431687      0.431620      0.431940   \n",
       "2010-02-05      0.425480      0.431100      0.431687      0.431620   \n",
       "...                  ...           ...           ...           ...   \n",
       "2024-11-20      0.917333      0.927333      0.938000      0.930000   \n",
       "2024-11-21      0.909667      0.917333      0.927333      0.938000   \n",
       "2024-11-22      0.921667      0.909667      0.917333      0.927333   \n",
       "2024-11-25      0.914667      0.921667      0.909667      0.917333   \n",
       "2024-11-26      0.916333      0.914667      0.921667      0.909667   \n",
       "\n",
       "            cerrar(t-19)  cerrar(t-20)  \n",
       "Fecha                                   \n",
       "2010-02-01      0.435693      0.435173  \n",
       "2010-02-02      0.435113      0.435693  \n",
       "2010-02-03      0.432333      0.435113  \n",
       "2010-02-04      0.431880      0.432333  \n",
       "2010-02-05      0.431940      0.431880  \n",
       "...                  ...           ...  \n",
       "2024-11-20      0.935000      0.936000  \n",
       "2024-11-21      0.930000      0.935000  \n",
       "2024-11-22      0.938000      0.930000  \n",
       "2024-11-25      0.927333      0.938000  \n",
       "2024-11-26      0.917333      0.927333  \n",
       "\n",
       "[3802 rows x 21 columns]"
      ]
     },
     "execution_count": 8,
     "metadata": {},
     "output_type": "execute_result"
    }
   ],
   "source": [
    "df"
   ]
  },
  {
   "cell_type": "code",
   "execution_count": 9,
   "id": "8edefc87-1076-4989-9df7-d41a97aed823",
   "metadata": {},
   "outputs": [],
   "source": [
    "from torch.utils.data import Dataset\n",
    "class TimeSeriesDataset(Dataset):\n",
    "    def __init__(self, X, y):\n",
    "        self.X = X\n",
    "        self.y = y\n",
    "    def __len__(self):\n",
    "        return len(self.X)\n",
    "    def __getitem__(self, i):\n",
    "        return self.X[i], self.y[i]"
   ]
  },
  {
   "cell_type": "code",
   "execution_count": 10,
   "id": "0cf288df-d066-4a46-999e-aae725d8ad05",
   "metadata": {},
   "outputs": [],
   "source": [
    "from sklearn.model_selection import train_test_split"
   ]
  },
  {
   "cell_type": "code",
   "execution_count": 11,
   "id": "f74571df-2b7e-4cc3-947d-e5bc62492d72",
   "metadata": {},
   "outputs": [],
   "source": [
    "y=np.array(df.iloc[:,0])\n",
    "X=np.array(df.iloc[:,1:])"
   ]
  },
  {
   "cell_type": "code",
   "execution_count": 12,
   "id": "b3f92955-7b01-4f74-9933-729e446786cc",
   "metadata": {},
   "outputs": [
    {
     "data": {
      "text/plain": [
       "((3802, 20), (3802,))"
      ]
     },
     "execution_count": 12,
     "metadata": {},
     "output_type": "execute_result"
    }
   ],
   "source": [
    "X.shape, y.shape"
   ]
  },
  {
   "cell_type": "code",
   "execution_count": 13,
   "id": "cc8035d9-a935-4fd1-a7af-869535cde8d4",
   "metadata": {},
   "outputs": [],
   "source": [
    "X_train_cpu, X_test_cpu, y_train_cpu, y_test_cpu = train_test_split(\n",
    "    X, y, test_size=0.33, random_state=42)"
   ]
  },
  {
   "cell_type": "code",
   "execution_count": 14,
   "id": "62212031-a013-4a29-8f87-80a0bdebcb06",
   "metadata": {},
   "outputs": [],
   "source": [
    "import torch"
   ]
  },
  {
   "cell_type": "code",
   "execution_count": 15,
   "id": "831133b8-80c7-4d87-9c6f-61e851e502de",
   "metadata": {},
   "outputs": [],
   "source": [
    "X_train = torch.unsqueeze(torch.from_numpy(X_train_cpu).to(torch.float32),dim=-1).to(device)\n",
    "X_test = torch.unsqueeze(torch.from_numpy(X_test_cpu).to(torch.float32),dim=-1).to(device)\n",
    "y_train = torch.unsqueeze(torch.from_numpy(y_train_cpu).to(torch.float32),dim=-1).to(device)\n",
    "y_test = torch.unsqueeze(torch.from_numpy(y_test_cpu).to(torch.float32),dim=-1).to(device)\n"
   ]
  },
  {
   "cell_type": "code",
   "execution_count": 16,
   "id": "242ff71d-e4d0-4911-8479-70906784be7c",
   "metadata": {},
   "outputs": [
    {
     "data": {
      "text/plain": [
       "(torch.Size([2547, 20, 1]),\n",
       " torch.Size([1255, 20, 1]),\n",
       " torch.Size([2547, 1]),\n",
       " torch.Size([1255, 1]))"
      ]
     },
     "execution_count": 16,
     "metadata": {},
     "output_type": "execute_result"
    }
   ],
   "source": [
    "X_train.shape, X_test.shape, y_train.shape, y_test.shape"
   ]
  },
  {
   "cell_type": "code",
   "execution_count": 17,
   "id": "c96fd122-cdbb-4a38-a6c6-2861cb28a7d8",
   "metadata": {},
   "outputs": [],
   "source": [
    "train_dataset = TimeSeriesDataset(X_train, y_train)\n",
    "test_dataset = TimeSeriesDataset(X_test, y_test)"
   ]
  },
  {
   "cell_type": "code",
   "execution_count": 18,
   "id": "989a0eab-6522-409a-8a05-a3e4fbb9e099",
   "metadata": {},
   "outputs": [],
   "source": [
    "from torch.utils.data import DataLoader\n",
    "batch_size = 1\n",
    "train_loader = DataLoader(train_dataset, batch_size=batch_size, shuffle=True)\n",
    "test_loader = DataLoader(test_dataset, batch_size=batch_size, shuffle=False)"
   ]
  },
  {
   "cell_type": "markdown",
   "id": "3a423c4d-571a-44c6-bc72-4a85f87c945b",
   "metadata": {},
   "source": [
    "### Red de Elman "
   ]
  },
  {
   "cell_type": "code",
   "execution_count": 19,
   "id": "29dcccdf-1475-41cb-aa8a-bbea84f39234",
   "metadata": {},
   "outputs": [],
   "source": [
    "import torch.nn as nn"
   ]
  },
  {
   "cell_type": "code",
   "execution_count": 20,
   "id": "4b549974-3816-4e2f-9f70-984d00874e48",
   "metadata": {},
   "outputs": [
    {
     "data": {
      "text/plain": [
       "(tensor([[[-0.5648, -0.4776, -0.5102, -0.3498, -0.1669],\n",
       "          [-0.5646, -0.4773, -0.5099, -0.3494, -0.1667],\n",
       "          [-0.5642, -0.4765, -0.5091, -0.3481, -0.1662],\n",
       "          [-0.5636, -0.4755, -0.5081, -0.3465, -0.1655],\n",
       "          [-0.5635, -0.4753, -0.5079, -0.3462, -0.1654],\n",
       "          [-0.5639, -0.4759, -0.5085, -0.3472, -0.1658],\n",
       "          [-0.5636, -0.4754, -0.5080, -0.3465, -0.1655],\n",
       "          [-0.5634, -0.4750, -0.5076, -0.3457, -0.1652],\n",
       "          [-0.5644, -0.4768, -0.5094, -0.3486, -0.1664],\n",
       "          [-0.5650, -0.4779, -0.5106, -0.3504, -0.1672],\n",
       "          [-0.5648, -0.4777, -0.5104, -0.3500, -0.1670],\n",
       "          [-0.5653, -0.4785, -0.5112, -0.3513, -0.1676],\n",
       "          [-0.5650, -0.4780, -0.5107, -0.3506, -0.1673],\n",
       "          [-0.5647, -0.4775, -0.5102, -0.3497, -0.1669],\n",
       "          [-0.5652, -0.4783, -0.5110, -0.3510, -0.1675],\n",
       "          [-0.5651, -0.4781, -0.5108, -0.3507, -0.1673],\n",
       "          [-0.5654, -0.4787, -0.5114, -0.3517, -0.1677],\n",
       "          [-0.5651, -0.4783, -0.5109, -0.3509, -0.1674],\n",
       "          [-0.5649, -0.4778, -0.5104, -0.3501, -0.1671],\n",
       "          [-0.5642, -0.4765, -0.5091, -0.3481, -0.1662]]],\n",
       "        grad_fn=<StackBackward0>),\n",
       " tensor([[[-0.5550, -0.5299, -0.3855, -0.5220,  0.3780],\n",
       "          [-0.5557, -0.5307, -0.3860, -0.5212,  0.3777],\n",
       "          [-0.5576, -0.5328, -0.3874, -0.5189,  0.3769],\n",
       "          [-0.5600, -0.5354, -0.3891, -0.5161,  0.3758],\n",
       "          [-0.5604, -0.5358, -0.3894, -0.5156,  0.3756],\n",
       "          [-0.5590, -0.5342, -0.3883, -0.5173,  0.3763],\n",
       "          [-0.5601, -0.5355, -0.3891, -0.5160,  0.3758],\n",
       "          [-0.5612, -0.5366, -0.3899, -0.5147,  0.3753],\n",
       "          [-0.5568, -0.5319, -0.3868, -0.5198,  0.3772],\n",
       "          [-0.5541, -0.5290, -0.3849, -0.5230,  0.3783],\n",
       "          [-0.5546, -0.5296, -0.3853, -0.5224,  0.3781],\n",
       "          [-0.5527, -0.5275, -0.3839, -0.5246,  0.3789],\n",
       "          [-0.5538, -0.5287, -0.3847, -0.5233,  0.3785],\n",
       "          [-0.5551, -0.5301, -0.3856, -0.5218,  0.3779],\n",
       "          [-0.5531, -0.5279, -0.3842, -0.5241,  0.3788],\n",
       "          [-0.5536, -0.5285, -0.3846, -0.5235,  0.3786],\n",
       "          [-0.5521, -0.5269, -0.3835, -0.5253,  0.3792],\n",
       "          [-0.5533, -0.5281, -0.3843, -0.5239,  0.3787],\n",
       "          [-0.5544, -0.5294, -0.3851, -0.5226,  0.3782],\n",
       "          [-0.5576, -0.5328, -0.3874, -0.5189,  0.3769]],\n",
       " \n",
       "         [[-0.5648, -0.4776, -0.5102, -0.3498, -0.1669],\n",
       "          [-0.5646, -0.4773, -0.5099, -0.3494, -0.1667],\n",
       "          [-0.5642, -0.4765, -0.5091, -0.3481, -0.1662],\n",
       "          [-0.5636, -0.4755, -0.5081, -0.3465, -0.1655],\n",
       "          [-0.5635, -0.4753, -0.5079, -0.3462, -0.1654],\n",
       "          [-0.5639, -0.4759, -0.5085, -0.3472, -0.1658],\n",
       "          [-0.5636, -0.4754, -0.5080, -0.3465, -0.1655],\n",
       "          [-0.5634, -0.4750, -0.5076, -0.3457, -0.1652],\n",
       "          [-0.5644, -0.4768, -0.5094, -0.3486, -0.1664],\n",
       "          [-0.5650, -0.4779, -0.5106, -0.3504, -0.1672],\n",
       "          [-0.5648, -0.4777, -0.5104, -0.3500, -0.1670],\n",
       "          [-0.5653, -0.4785, -0.5112, -0.3513, -0.1676],\n",
       "          [-0.5650, -0.4780, -0.5107, -0.3506, -0.1673],\n",
       "          [-0.5647, -0.4775, -0.5102, -0.3497, -0.1669],\n",
       "          [-0.5652, -0.4783, -0.5110, -0.3510, -0.1675],\n",
       "          [-0.5651, -0.4781, -0.5108, -0.3507, -0.1673],\n",
       "          [-0.5654, -0.4787, -0.5114, -0.3517, -0.1677],\n",
       "          [-0.5651, -0.4783, -0.5109, -0.3509, -0.1674],\n",
       "          [-0.5649, -0.4778, -0.5104, -0.3501, -0.1671],\n",
       "          [-0.5642, -0.4765, -0.5091, -0.3481, -0.1662]]],\n",
       "        grad_fn=<StackBackward0>),\n",
       " torch.Size([1, 20, 5]),\n",
       " torch.Size([2, 20, 5]))"
      ]
     },
     "execution_count": 20,
     "metadata": {},
     "output_type": "execute_result"
    }
   ],
   "source": [
    "for x_batch, y_batch in train_loader:\n",
    "    hidden_layer_size = 5\n",
    "    h = torch.zeros(2, x_batch.shape[1], hidden_layer_size).to(device)\n",
    "    modelo = nn.RNN(input_size=1,\n",
    "        hidden_size=hidden_layer_size, num_layers=2).to(device)\n",
    "    output, h = modelo(x_batch, h)\n",
    "    break\n",
    "output, h, output.shape, h.shape"
   ]
  },
  {
   "cell_type": "code",
   "execution_count": 21,
   "id": "e2192a4a-66cc-432a-9a1d-e897458717b5",
   "metadata": {},
   "outputs": [],
   "source": [
    "class elman(nn.Module):\n",
    "    def __init__(self, input_size=1, hidden_size=5, num_layers=1, output_size=1):\n",
    "        super().__init__()\n",
    "        self.input_size=input_size\n",
    "        self.hidden_size = hidden_size\n",
    "        self.num_layers =num_layers\n",
    "        \n",
    "        self.hidden_layer = nn.RNN(input_size=self.input_size, hidden_size =self.hidden_size, num_layers=self.num_layers,batch_first=True)\n",
    "        self.output_layer = nn.Linear(self.hidden_size, output_size)\n",
    "        \n",
    "    def forward(self, x):\n",
    "        batch_size = x.size(0)\n",
    "        h0 = torch.zeros(self.num_layers, batch_size, self.hidden_size).to(device)\n",
    "        out, h = self.hidden_layer(x, h0)\n",
    "        output = self.output_layer(out[:, -1, :])\n",
    "        return output"
   ]
  },
  {
   "cell_type": "code",
   "execution_count": 22,
   "id": "68b79bd9-5187-4e5a-aed7-5cf2052ee770",
   "metadata": {},
   "outputs": [
    {
     "data": {
      "text/plain": [
       "elman(\n",
       "  (hidden_layer): RNN(1, 5, num_layers=2, batch_first=True)\n",
       "  (output_layer): Linear(in_features=5, out_features=1, bias=True)\n",
       ")"
      ]
     },
     "execution_count": 22,
     "metadata": {},
     "output_type": "execute_result"
    }
   ],
   "source": [
    "model = elman(input_size=1, hidden_size=5, num_layers=2, output_size=1).to(device)\n",
    "model"
   ]
  },
  {
   "cell_type": "code",
   "execution_count": 23,
   "id": "924e3dc6-a80a-4334-ad11-5e52346976f6",
   "metadata": {},
   "outputs": [],
   "source": [
    "from torchsummary import summary"
   ]
  },
  {
   "cell_type": "code",
   "execution_count": 24,
   "id": "09d65f93-60e6-48cc-897f-79b860b49536",
   "metadata": {},
   "outputs": [],
   "source": [
    "learning_rate = 0.001\n",
    "num_epochs = 50\n",
    "loss_function = nn.MSELoss()\n",
    "optimizer = torch.optim.Adam(model.parameters(), lr=learning_rate)"
   ]
  },
  {
   "cell_type": "code",
   "execution_count": 25,
   "id": "9c30fed7-1701-46a6-86e3-65934e7028d3",
   "metadata": {},
   "outputs": [],
   "source": [
    "def train_one_epoch():\n",
    "    model.train(True)\n",
    "    print(f'Epoch: {epoch + 1}')\n",
    "    running_loss = 0.0\n",
    "    accuracy = 0.0\n",
    "    for x_batch, y_batch in tqdm(train_loader):\n",
    "        output = model(x_batch)\n",
    "        loss = loss_function(output, y_batch)\n",
    "        \n",
    "        err = np.abs(output.detach().numpy()-y_batch.numpy())/y_batch.numpy()\n",
    "        accuracy += np.mean(err<=0.05)\n",
    "        \n",
    "        running_loss += loss.item()\n",
    "        optimizer.zero_grad()\n",
    "        loss.backward()\n",
    "        optimizer.step()\n",
    "    return running_loss/len(train_loader), accuracy/len(train_loader)"
   ]
  },
  {
   "cell_type": "code",
   "execution_count": 26,
   "id": "8153d1bf-2d3e-4368-a8b5-5fbd95843fba",
   "metadata": {},
   "outputs": [],
   "source": [
    "def validate_one_epoch():\n",
    "    model.train(False)\n",
    "    running_loss = 0.0\n",
    "    accuracy = 0.0\n",
    "    \n",
    "    for x_batch, y_batch in test_loader:\n",
    "        with torch.no_grad():\n",
    "            output = model(x_batch)\n",
    "            loss = loss_function(output, y_batch)\n",
    "            err = np.abs(output.detach().numpy()-y_batch.numpy())/y_batch.numpy()\n",
    "            accuracy += np.mean(err<=0.05)\n",
    "            running_loss += loss.item()\n",
    "    return running_loss / len(test_loader), accuracy/len(test_loader)"
   ]
  },
  {
   "cell_type": "code",
   "execution_count": 27,
   "id": "f5fd8117-1037-42ad-b0e9-16920eb5ff65",
   "metadata": {},
   "outputs": [],
   "source": [
    "from tqdm import tqdm"
   ]
  },
  {
   "cell_type": "code",
   "execution_count": 28,
   "id": "e5c8c751-748c-4d47-aa73-2db0458fa612",
   "metadata": {},
   "outputs": [],
   "source": [
    "resultados=pd.DataFrame(columns=[\"Loss_train\",\"Loss_test\",\"Acc_train\",\"Acc_test\"])"
   ]
  },
  {
   "cell_type": "code",
   "execution_count": 29,
   "id": "c5b7a956-98c1-4ed2-b6c4-0568153b3813",
   "metadata": {
    "scrolled": true
   },
   "outputs": [
    {
     "name": "stdout",
     "output_type": "stream",
     "text": [
      "Epoch: 1\n"
     ]
    },
    {
     "name": "stderr",
     "output_type": "stream",
     "text": [
      "100%|██████████████████████████████████████| 2547/2547 [00:02<00:00, 889.38it/s]\n"
     ]
    },
    {
     "name": "stdout",
     "output_type": "stream",
     "text": [
      "Epoch: 2\n"
     ]
    },
    {
     "name": "stderr",
     "output_type": "stream",
     "text": [
      "100%|██████████████████████████████████████| 2547/2547 [00:02<00:00, 926.13it/s]\n"
     ]
    },
    {
     "name": "stdout",
     "output_type": "stream",
     "text": [
      "Epoch: 3\n"
     ]
    },
    {
     "name": "stderr",
     "output_type": "stream",
     "text": [
      "100%|██████████████████████████████████████| 2547/2547 [00:02<00:00, 941.14it/s]\n"
     ]
    },
    {
     "name": "stdout",
     "output_type": "stream",
     "text": [
      "Epoch: 4\n"
     ]
    },
    {
     "name": "stderr",
     "output_type": "stream",
     "text": [
      "100%|██████████████████████████████████████| 2547/2547 [00:02<00:00, 942.85it/s]\n"
     ]
    },
    {
     "name": "stdout",
     "output_type": "stream",
     "text": [
      "Epoch: 5\n"
     ]
    },
    {
     "name": "stderr",
     "output_type": "stream",
     "text": [
      "100%|██████████████████████████████████████| 2547/2547 [00:02<00:00, 904.01it/s]\n"
     ]
    },
    {
     "name": "stdout",
     "output_type": "stream",
     "text": [
      "Epoch: 6\n"
     ]
    },
    {
     "name": "stderr",
     "output_type": "stream",
     "text": [
      "100%|██████████████████████████████████████| 2547/2547 [00:02<00:00, 935.15it/s]\n"
     ]
    },
    {
     "name": "stdout",
     "output_type": "stream",
     "text": [
      "Epoch: 7\n"
     ]
    },
    {
     "name": "stderr",
     "output_type": "stream",
     "text": [
      "100%|██████████████████████████████████████| 2547/2547 [00:02<00:00, 918.61it/s]\n"
     ]
    },
    {
     "name": "stdout",
     "output_type": "stream",
     "text": [
      "Epoch: 8\n"
     ]
    },
    {
     "name": "stderr",
     "output_type": "stream",
     "text": [
      "100%|██████████████████████████████████████| 2547/2547 [00:02<00:00, 916.27it/s]\n"
     ]
    },
    {
     "name": "stdout",
     "output_type": "stream",
     "text": [
      "Epoch: 9\n"
     ]
    },
    {
     "name": "stderr",
     "output_type": "stream",
     "text": [
      "100%|██████████████████████████████████████| 2547/2547 [00:02<00:00, 912.59it/s]\n"
     ]
    },
    {
     "name": "stdout",
     "output_type": "stream",
     "text": [
      "Epoch: 10\n"
     ]
    },
    {
     "name": "stderr",
     "output_type": "stream",
     "text": [
      "100%|██████████████████████████████████████| 2547/2547 [00:02<00:00, 937.93it/s]\n"
     ]
    },
    {
     "name": "stdout",
     "output_type": "stream",
     "text": [
      "Epoch: 11\n"
     ]
    },
    {
     "name": "stderr",
     "output_type": "stream",
     "text": [
      "100%|██████████████████████████████████████| 2547/2547 [00:02<00:00, 936.80it/s]\n"
     ]
    },
    {
     "name": "stdout",
     "output_type": "stream",
     "text": [
      "Epoch: 12\n"
     ]
    },
    {
     "name": "stderr",
     "output_type": "stream",
     "text": [
      "100%|██████████████████████████████████████| 2547/2547 [00:02<00:00, 942.04it/s]\n"
     ]
    },
    {
     "name": "stdout",
     "output_type": "stream",
     "text": [
      "Epoch: 13\n"
     ]
    },
    {
     "name": "stderr",
     "output_type": "stream",
     "text": [
      "100%|██████████████████████████████████████| 2547/2547 [00:02<00:00, 944.90it/s]\n"
     ]
    },
    {
     "name": "stdout",
     "output_type": "stream",
     "text": [
      "Epoch: 14\n"
     ]
    },
    {
     "name": "stderr",
     "output_type": "stream",
     "text": [
      "100%|██████████████████████████████████████| 2547/2547 [00:02<00:00, 942.82it/s]\n"
     ]
    },
    {
     "name": "stdout",
     "output_type": "stream",
     "text": [
      "Epoch: 15\n"
     ]
    },
    {
     "name": "stderr",
     "output_type": "stream",
     "text": [
      "100%|██████████████████████████████████████| 2547/2547 [00:02<00:00, 921.37it/s]\n"
     ]
    },
    {
     "name": "stdout",
     "output_type": "stream",
     "text": [
      "Epoch: 16\n"
     ]
    },
    {
     "name": "stderr",
     "output_type": "stream",
     "text": [
      "100%|██████████████████████████████████████| 2547/2547 [00:02<00:00, 913.47it/s]\n"
     ]
    },
    {
     "name": "stdout",
     "output_type": "stream",
     "text": [
      "Epoch: 17\n"
     ]
    },
    {
     "name": "stderr",
     "output_type": "stream",
     "text": [
      "100%|██████████████████████████████████████| 2547/2547 [00:02<00:00, 883.74it/s]\n"
     ]
    },
    {
     "name": "stdout",
     "output_type": "stream",
     "text": [
      "Epoch: 18\n"
     ]
    },
    {
     "name": "stderr",
     "output_type": "stream",
     "text": [
      "100%|██████████████████████████████████████| 2547/2547 [00:02<00:00, 925.33it/s]\n"
     ]
    },
    {
     "name": "stdout",
     "output_type": "stream",
     "text": [
      "Epoch: 19\n"
     ]
    },
    {
     "name": "stderr",
     "output_type": "stream",
     "text": [
      "100%|██████████████████████████████████████| 2547/2547 [00:02<00:00, 907.53it/s]\n"
     ]
    },
    {
     "name": "stdout",
     "output_type": "stream",
     "text": [
      "Epoch: 20\n"
     ]
    },
    {
     "name": "stderr",
     "output_type": "stream",
     "text": [
      "100%|██████████████████████████████████████| 2547/2547 [00:02<00:00, 900.68it/s]\n"
     ]
    },
    {
     "name": "stdout",
     "output_type": "stream",
     "text": [
      "Epoch: 21\n"
     ]
    },
    {
     "name": "stderr",
     "output_type": "stream",
     "text": [
      "100%|██████████████████████████████████████| 2547/2547 [00:02<00:00, 897.56it/s]\n"
     ]
    },
    {
     "name": "stdout",
     "output_type": "stream",
     "text": [
      "Epoch: 22\n"
     ]
    },
    {
     "name": "stderr",
     "output_type": "stream",
     "text": [
      "100%|██████████████████████████████████████| 2547/2547 [00:02<00:00, 902.53it/s]\n"
     ]
    },
    {
     "name": "stdout",
     "output_type": "stream",
     "text": [
      "Epoch: 23\n"
     ]
    },
    {
     "name": "stderr",
     "output_type": "stream",
     "text": [
      "100%|██████████████████████████████████████| 2547/2547 [00:02<00:00, 902.85it/s]\n"
     ]
    },
    {
     "name": "stdout",
     "output_type": "stream",
     "text": [
      "Epoch: 24\n"
     ]
    },
    {
     "name": "stderr",
     "output_type": "stream",
     "text": [
      "100%|██████████████████████████████████████| 2547/2547 [00:02<00:00, 924.43it/s]\n"
     ]
    },
    {
     "name": "stdout",
     "output_type": "stream",
     "text": [
      "Epoch: 25\n"
     ]
    },
    {
     "name": "stderr",
     "output_type": "stream",
     "text": [
      "100%|██████████████████████████████████████| 2547/2547 [00:02<00:00, 925.46it/s]\n"
     ]
    },
    {
     "name": "stdout",
     "output_type": "stream",
     "text": [
      "Epoch: 26\n"
     ]
    },
    {
     "name": "stderr",
     "output_type": "stream",
     "text": [
      "100%|██████████████████████████████████████| 2547/2547 [00:02<00:00, 944.82it/s]\n"
     ]
    },
    {
     "name": "stdout",
     "output_type": "stream",
     "text": [
      "Epoch: 27\n"
     ]
    },
    {
     "name": "stderr",
     "output_type": "stream",
     "text": [
      "  8%|███▏                                   | 205/2547 [00:00<00:02, 939.02it/s]\n"
     ]
    },
    {
     "ename": "KeyboardInterrupt",
     "evalue": "",
     "output_type": "error",
     "traceback": [
      "\u001b[0;31m---------------------------------------------------------------------------\u001b[0m",
      "\u001b[0;31mKeyboardInterrupt\u001b[0m                         Traceback (most recent call last)",
      "Cell \u001b[0;32mIn[29], line 2\u001b[0m\n\u001b[1;32m      1\u001b[0m \u001b[38;5;28;01mfor\u001b[39;00m epoch \u001b[38;5;129;01min\u001b[39;00m \u001b[38;5;28mrange\u001b[39m(num_epochs):\n\u001b[0;32m----> 2\u001b[0m     val_train,a_train\u001b[38;5;241m=\u001b[39mtrain_one_epoch()\n\u001b[1;32m      3\u001b[0m     val_test,a_test\u001b[38;5;241m=\u001b[39mvalidate_one_epoch()\n\u001b[1;32m      5\u001b[0m     resultados\u001b[38;5;241m.\u001b[39mloc[epoch]\u001b[38;5;241m=\u001b[39m(val_train,val_test,a_train,a_test)\n",
      "Cell \u001b[0;32mIn[25], line 16\u001b[0m, in \u001b[0;36mtrain_one_epoch\u001b[0;34m()\u001b[0m\n\u001b[1;32m     14\u001b[0m     optimizer\u001b[38;5;241m.\u001b[39mzero_grad()\n\u001b[1;32m     15\u001b[0m     loss\u001b[38;5;241m.\u001b[39mbackward()\n\u001b[0;32m---> 16\u001b[0m     optimizer\u001b[38;5;241m.\u001b[39mstep()\n\u001b[1;32m     17\u001b[0m \u001b[38;5;28;01mreturn\u001b[39;00m running_loss\u001b[38;5;241m/\u001b[39m\u001b[38;5;28mlen\u001b[39m(train_loader), accuracy\u001b[38;5;241m/\u001b[39m\u001b[38;5;28mlen\u001b[39m(train_loader)\n",
      "File \u001b[0;32m/opt/anaconda3/lib/python3.11/site-packages/torch/optim/optimizer.py:487\u001b[0m, in \u001b[0;36mOptimizer.profile_hook_step.<locals>.wrapper\u001b[0;34m(*args, **kwargs)\u001b[0m\n\u001b[1;32m    482\u001b[0m         \u001b[38;5;28;01melse\u001b[39;00m:\n\u001b[1;32m    483\u001b[0m             \u001b[38;5;28;01mraise\u001b[39;00m \u001b[38;5;167;01mRuntimeError\u001b[39;00m(\n\u001b[1;32m    484\u001b[0m                 \u001b[38;5;124mf\u001b[39m\u001b[38;5;124m\"\u001b[39m\u001b[38;5;132;01m{\u001b[39;00mfunc\u001b[38;5;132;01m}\u001b[39;00m\u001b[38;5;124m must return None or a tuple of (new_args, new_kwargs), but got \u001b[39m\u001b[38;5;132;01m{\u001b[39;00mresult\u001b[38;5;132;01m}\u001b[39;00m\u001b[38;5;124m.\u001b[39m\u001b[38;5;124m\"\u001b[39m\n\u001b[1;32m    485\u001b[0m             )\n\u001b[0;32m--> 487\u001b[0m out \u001b[38;5;241m=\u001b[39m func(\u001b[38;5;241m*\u001b[39margs, \u001b[38;5;241m*\u001b[39m\u001b[38;5;241m*\u001b[39mkwargs)\n\u001b[1;32m    488\u001b[0m \u001b[38;5;28mself\u001b[39m\u001b[38;5;241m.\u001b[39m_optimizer_step_code()\n\u001b[1;32m    490\u001b[0m \u001b[38;5;66;03m# call optimizer step post hooks\u001b[39;00m\n",
      "File \u001b[0;32m/opt/anaconda3/lib/python3.11/site-packages/torch/optim/optimizer.py:91\u001b[0m, in \u001b[0;36m_use_grad_for_differentiable.<locals>._use_grad\u001b[0;34m(self, *args, **kwargs)\u001b[0m\n\u001b[1;32m     89\u001b[0m     torch\u001b[38;5;241m.\u001b[39mset_grad_enabled(\u001b[38;5;28mself\u001b[39m\u001b[38;5;241m.\u001b[39mdefaults[\u001b[38;5;124m\"\u001b[39m\u001b[38;5;124mdifferentiable\u001b[39m\u001b[38;5;124m\"\u001b[39m])\n\u001b[1;32m     90\u001b[0m     torch\u001b[38;5;241m.\u001b[39m_dynamo\u001b[38;5;241m.\u001b[39mgraph_break()\n\u001b[0;32m---> 91\u001b[0m     ret \u001b[38;5;241m=\u001b[39m func(\u001b[38;5;28mself\u001b[39m, \u001b[38;5;241m*\u001b[39margs, \u001b[38;5;241m*\u001b[39m\u001b[38;5;241m*\u001b[39mkwargs)\n\u001b[1;32m     92\u001b[0m \u001b[38;5;28;01mfinally\u001b[39;00m:\n\u001b[1;32m     93\u001b[0m     torch\u001b[38;5;241m.\u001b[39m_dynamo\u001b[38;5;241m.\u001b[39mgraph_break()\n",
      "File \u001b[0;32m/opt/anaconda3/lib/python3.11/site-packages/torch/optim/adam.py:223\u001b[0m, in \u001b[0;36mAdam.step\u001b[0;34m(self, closure)\u001b[0m\n\u001b[1;32m    211\u001b[0m     beta1, beta2 \u001b[38;5;241m=\u001b[39m group[\u001b[38;5;124m\"\u001b[39m\u001b[38;5;124mbetas\u001b[39m\u001b[38;5;124m\"\u001b[39m]\n\u001b[1;32m    213\u001b[0m     has_complex \u001b[38;5;241m=\u001b[39m \u001b[38;5;28mself\u001b[39m\u001b[38;5;241m.\u001b[39m_init_group(\n\u001b[1;32m    214\u001b[0m         group,\n\u001b[1;32m    215\u001b[0m         params_with_grad,\n\u001b[0;32m   (...)\u001b[0m\n\u001b[1;32m    220\u001b[0m         state_steps,\n\u001b[1;32m    221\u001b[0m     )\n\u001b[0;32m--> 223\u001b[0m     adam(\n\u001b[1;32m    224\u001b[0m         params_with_grad,\n\u001b[1;32m    225\u001b[0m         grads,\n\u001b[1;32m    226\u001b[0m         exp_avgs,\n\u001b[1;32m    227\u001b[0m         exp_avg_sqs,\n\u001b[1;32m    228\u001b[0m         max_exp_avg_sqs,\n\u001b[1;32m    229\u001b[0m         state_steps,\n\u001b[1;32m    230\u001b[0m         amsgrad\u001b[38;5;241m=\u001b[39mgroup[\u001b[38;5;124m\"\u001b[39m\u001b[38;5;124mamsgrad\u001b[39m\u001b[38;5;124m\"\u001b[39m],\n\u001b[1;32m    231\u001b[0m         has_complex\u001b[38;5;241m=\u001b[39mhas_complex,\n\u001b[1;32m    232\u001b[0m         beta1\u001b[38;5;241m=\u001b[39mbeta1,\n\u001b[1;32m    233\u001b[0m         beta2\u001b[38;5;241m=\u001b[39mbeta2,\n\u001b[1;32m    234\u001b[0m         lr\u001b[38;5;241m=\u001b[39mgroup[\u001b[38;5;124m\"\u001b[39m\u001b[38;5;124mlr\u001b[39m\u001b[38;5;124m\"\u001b[39m],\n\u001b[1;32m    235\u001b[0m         weight_decay\u001b[38;5;241m=\u001b[39mgroup[\u001b[38;5;124m\"\u001b[39m\u001b[38;5;124mweight_decay\u001b[39m\u001b[38;5;124m\"\u001b[39m],\n\u001b[1;32m    236\u001b[0m         eps\u001b[38;5;241m=\u001b[39mgroup[\u001b[38;5;124m\"\u001b[39m\u001b[38;5;124meps\u001b[39m\u001b[38;5;124m\"\u001b[39m],\n\u001b[1;32m    237\u001b[0m         maximize\u001b[38;5;241m=\u001b[39mgroup[\u001b[38;5;124m\"\u001b[39m\u001b[38;5;124mmaximize\u001b[39m\u001b[38;5;124m\"\u001b[39m],\n\u001b[1;32m    238\u001b[0m         foreach\u001b[38;5;241m=\u001b[39mgroup[\u001b[38;5;124m\"\u001b[39m\u001b[38;5;124mforeach\u001b[39m\u001b[38;5;124m\"\u001b[39m],\n\u001b[1;32m    239\u001b[0m         capturable\u001b[38;5;241m=\u001b[39mgroup[\u001b[38;5;124m\"\u001b[39m\u001b[38;5;124mcapturable\u001b[39m\u001b[38;5;124m\"\u001b[39m],\n\u001b[1;32m    240\u001b[0m         differentiable\u001b[38;5;241m=\u001b[39mgroup[\u001b[38;5;124m\"\u001b[39m\u001b[38;5;124mdifferentiable\u001b[39m\u001b[38;5;124m\"\u001b[39m],\n\u001b[1;32m    241\u001b[0m         fused\u001b[38;5;241m=\u001b[39mgroup[\u001b[38;5;124m\"\u001b[39m\u001b[38;5;124mfused\u001b[39m\u001b[38;5;124m\"\u001b[39m],\n\u001b[1;32m    242\u001b[0m         grad_scale\u001b[38;5;241m=\u001b[39m\u001b[38;5;28mgetattr\u001b[39m(\u001b[38;5;28mself\u001b[39m, \u001b[38;5;124m\"\u001b[39m\u001b[38;5;124mgrad_scale\u001b[39m\u001b[38;5;124m\"\u001b[39m, \u001b[38;5;28;01mNone\u001b[39;00m),\n\u001b[1;32m    243\u001b[0m         found_inf\u001b[38;5;241m=\u001b[39m\u001b[38;5;28mgetattr\u001b[39m(\u001b[38;5;28mself\u001b[39m, \u001b[38;5;124m\"\u001b[39m\u001b[38;5;124mfound_inf\u001b[39m\u001b[38;5;124m\"\u001b[39m, \u001b[38;5;28;01mNone\u001b[39;00m),\n\u001b[1;32m    244\u001b[0m     )\n\u001b[1;32m    246\u001b[0m \u001b[38;5;28;01mreturn\u001b[39;00m loss\n",
      "File \u001b[0;32m/opt/anaconda3/lib/python3.11/site-packages/torch/optim/optimizer.py:154\u001b[0m, in \u001b[0;36m_disable_dynamo_if_unsupported.<locals>.wrapper.<locals>.maybe_fallback\u001b[0;34m(*args, **kwargs)\u001b[0m\n\u001b[1;32m    152\u001b[0m     \u001b[38;5;28;01mreturn\u001b[39;00m disabled_func(\u001b[38;5;241m*\u001b[39margs, \u001b[38;5;241m*\u001b[39m\u001b[38;5;241m*\u001b[39mkwargs)\n\u001b[1;32m    153\u001b[0m \u001b[38;5;28;01melse\u001b[39;00m:\n\u001b[0;32m--> 154\u001b[0m     \u001b[38;5;28;01mreturn\u001b[39;00m func(\u001b[38;5;241m*\u001b[39margs, \u001b[38;5;241m*\u001b[39m\u001b[38;5;241m*\u001b[39mkwargs)\n",
      "File \u001b[0;32m/opt/anaconda3/lib/python3.11/site-packages/torch/optim/adam.py:784\u001b[0m, in \u001b[0;36madam\u001b[0;34m(params, grads, exp_avgs, exp_avg_sqs, max_exp_avg_sqs, state_steps, foreach, capturable, differentiable, fused, grad_scale, found_inf, has_complex, amsgrad, beta1, beta2, lr, weight_decay, eps, maximize)\u001b[0m\n\u001b[1;32m    781\u001b[0m \u001b[38;5;28;01melse\u001b[39;00m:\n\u001b[1;32m    782\u001b[0m     func \u001b[38;5;241m=\u001b[39m _single_tensor_adam\n\u001b[0;32m--> 784\u001b[0m func(\n\u001b[1;32m    785\u001b[0m     params,\n\u001b[1;32m    786\u001b[0m     grads,\n\u001b[1;32m    787\u001b[0m     exp_avgs,\n\u001b[1;32m    788\u001b[0m     exp_avg_sqs,\n\u001b[1;32m    789\u001b[0m     max_exp_avg_sqs,\n\u001b[1;32m    790\u001b[0m     state_steps,\n\u001b[1;32m    791\u001b[0m     amsgrad\u001b[38;5;241m=\u001b[39mamsgrad,\n\u001b[1;32m    792\u001b[0m     has_complex\u001b[38;5;241m=\u001b[39mhas_complex,\n\u001b[1;32m    793\u001b[0m     beta1\u001b[38;5;241m=\u001b[39mbeta1,\n\u001b[1;32m    794\u001b[0m     beta2\u001b[38;5;241m=\u001b[39mbeta2,\n\u001b[1;32m    795\u001b[0m     lr\u001b[38;5;241m=\u001b[39mlr,\n\u001b[1;32m    796\u001b[0m     weight_decay\u001b[38;5;241m=\u001b[39mweight_decay,\n\u001b[1;32m    797\u001b[0m     eps\u001b[38;5;241m=\u001b[39meps,\n\u001b[1;32m    798\u001b[0m     maximize\u001b[38;5;241m=\u001b[39mmaximize,\n\u001b[1;32m    799\u001b[0m     capturable\u001b[38;5;241m=\u001b[39mcapturable,\n\u001b[1;32m    800\u001b[0m     differentiable\u001b[38;5;241m=\u001b[39mdifferentiable,\n\u001b[1;32m    801\u001b[0m     grad_scale\u001b[38;5;241m=\u001b[39mgrad_scale,\n\u001b[1;32m    802\u001b[0m     found_inf\u001b[38;5;241m=\u001b[39mfound_inf,\n\u001b[1;32m    803\u001b[0m )\n",
      "File \u001b[0;32m/opt/anaconda3/lib/python3.11/site-packages/torch/optim/adam.py:414\u001b[0m, in \u001b[0;36m_single_tensor_adam\u001b[0;34m(params, grads, exp_avgs, exp_avg_sqs, max_exp_avg_sqs, state_steps, grad_scale, found_inf, amsgrad, has_complex, beta1, beta2, lr, weight_decay, eps, maximize, capturable, differentiable)\u001b[0m\n\u001b[1;32m    412\u001b[0m     param\u001b[38;5;241m.\u001b[39maddcdiv_(exp_avg, denom)\n\u001b[1;32m    413\u001b[0m \u001b[38;5;28;01melse\u001b[39;00m:\n\u001b[0;32m--> 414\u001b[0m     step \u001b[38;5;241m=\u001b[39m _get_value(step_t)\n\u001b[1;32m    416\u001b[0m     bias_correction1 \u001b[38;5;241m=\u001b[39m \u001b[38;5;241m1\u001b[39m \u001b[38;5;241m-\u001b[39m beta1\u001b[38;5;241m*\u001b[39m\u001b[38;5;241m*\u001b[39mstep\n\u001b[1;32m    417\u001b[0m     bias_correction2 \u001b[38;5;241m=\u001b[39m \u001b[38;5;241m1\u001b[39m \u001b[38;5;241m-\u001b[39m beta2\u001b[38;5;241m*\u001b[39m\u001b[38;5;241m*\u001b[39mstep\n",
      "File \u001b[0;32m/opt/anaconda3/lib/python3.11/site-packages/torch/optim/optimizer.py:103\u001b[0m, in \u001b[0;36m_get_value\u001b[0;34m(x)\u001b[0m\n\u001b[1;32m    101\u001b[0m \u001b[38;5;28;01mdef\u001b[39;00m \u001b[38;5;21m_get_value\u001b[39m(x):\n\u001b[1;32m    102\u001b[0m     \u001b[38;5;66;03m# item is significantly faster than a cpu tensor in eager mode\u001b[39;00m\n\u001b[0;32m--> 103\u001b[0m     \u001b[38;5;28;01mif\u001b[39;00m \u001b[38;5;129;01mnot\u001b[39;00m torch\u001b[38;5;241m.\u001b[39mjit\u001b[38;5;241m.\u001b[39mis_scripting() \u001b[38;5;129;01mand\u001b[39;00m is_compiling():\n\u001b[1;32m    104\u001b[0m         \u001b[38;5;28;01mreturn\u001b[39;00m x\n\u001b[1;32m    105\u001b[0m     \u001b[38;5;28;01melse\u001b[39;00m:\n",
      "File \u001b[0;32m/opt/anaconda3/lib/python3.11/site-packages/torch/_jit_internal.py:103\u001b[0m, in \u001b[0;36mis_scripting\u001b[0;34m()\u001b[0m\n\u001b[1;32m     99\u001b[0m \u001b[38;5;28;01mfor\u001b[39;00m i \u001b[38;5;129;01min\u001b[39;00m \u001b[38;5;28mrange\u001b[39m(\u001b[38;5;241m2\u001b[39m, \u001b[38;5;241m7\u001b[39m):\n\u001b[1;32m    100\u001b[0m     \u001b[38;5;28mglobals\u001b[39m()[\u001b[38;5;124mf\u001b[39m\u001b[38;5;124m\"\u001b[39m\u001b[38;5;124mBroadcastingList\u001b[39m\u001b[38;5;132;01m{\u001b[39;00mi\u001b[38;5;132;01m}\u001b[39;00m\u001b[38;5;124m\"\u001b[39m] \u001b[38;5;241m=\u001b[39m BroadcastingList1\n\u001b[0;32m--> 103\u001b[0m \u001b[38;5;28;01mdef\u001b[39;00m \u001b[38;5;21mis_scripting\u001b[39m() \u001b[38;5;241m-\u001b[39m\u001b[38;5;241m>\u001b[39m \u001b[38;5;28mbool\u001b[39m:\n\u001b[1;32m    104\u001b[0m \u001b[38;5;250m    \u001b[39m\u001b[38;5;124mr\u001b[39m\u001b[38;5;124;03m\"\"\"\u001b[39;00m\n\u001b[1;32m    105\u001b[0m \u001b[38;5;124;03m    Function that returns True when in compilation and False otherwise. This\u001b[39;00m\n\u001b[1;32m    106\u001b[0m \u001b[38;5;124;03m    is useful especially with the @unused decorator to leave code in your\u001b[39;00m\n\u001b[0;32m   (...)\u001b[0m\n\u001b[1;32m    120\u001b[0m \u001b[38;5;124;03m                return unsupported_linear_op(x)\u001b[39;00m\n\u001b[1;32m    121\u001b[0m \u001b[38;5;124;03m    \"\"\"\u001b[39;00m\n\u001b[1;32m    122\u001b[0m     \u001b[38;5;28;01mreturn\u001b[39;00m \u001b[38;5;28;01mFalse\u001b[39;00m\n",
      "\u001b[0;31mKeyboardInterrupt\u001b[0m: "
     ]
    }
   ],
   "source": [
    "for epoch in range(num_epochs):\n",
    "    val_train,a_train=train_one_epoch()\n",
    "    val_test,a_test=validate_one_epoch()\n",
    "    \n",
    "    resultados.loc[epoch]=(val_train,val_test,a_train,a_test)"
   ]
  },
  {
   "cell_type": "code",
   "execution_count": 30,
   "id": "ee4aff8e-74e2-45cc-a88d-952027f400ce",
   "metadata": {},
   "outputs": [
    {
     "data": {
      "text/html": [
       "<div>\n",
       "<style scoped>\n",
       "    .dataframe tbody tr th:only-of-type {\n",
       "        vertical-align: middle;\n",
       "    }\n",
       "\n",
       "    .dataframe tbody tr th {\n",
       "        vertical-align: top;\n",
       "    }\n",
       "\n",
       "    .dataframe thead th {\n",
       "        text-align: right;\n",
       "    }\n",
       "</style>\n",
       "<table border=\"1\" class=\"dataframe\">\n",
       "  <thead>\n",
       "    <tr style=\"text-align: right;\">\n",
       "      <th></th>\n",
       "      <th>Loss_train</th>\n",
       "      <th>Loss_test</th>\n",
       "      <th>Acc_train</th>\n",
       "      <th>Acc_test</th>\n",
       "    </tr>\n",
       "  </thead>\n",
       "  <tbody>\n",
       "    <tr>\n",
       "      <th>0</th>\n",
       "      <td>0.003447</td>\n",
       "      <td>0.000821</td>\n",
       "      <td>0.537888</td>\n",
       "      <td>0.645418</td>\n",
       "    </tr>\n",
       "    <tr>\n",
       "      <th>1</th>\n",
       "      <td>0.001069</td>\n",
       "      <td>0.001198</td>\n",
       "      <td>0.589713</td>\n",
       "      <td>0.519522</td>\n",
       "    </tr>\n",
       "    <tr>\n",
       "      <th>2</th>\n",
       "      <td>0.001037</td>\n",
       "      <td>0.001095</td>\n",
       "      <td>0.600314</td>\n",
       "      <td>0.545817</td>\n",
       "    </tr>\n",
       "    <tr>\n",
       "      <th>3</th>\n",
       "      <td>0.000980</td>\n",
       "      <td>0.000981</td>\n",
       "      <td>0.612093</td>\n",
       "      <td>0.637450</td>\n",
       "    </tr>\n",
       "    <tr>\n",
       "      <th>4</th>\n",
       "      <td>0.000969</td>\n",
       "      <td>0.001157</td>\n",
       "      <td>0.614056</td>\n",
       "      <td>0.551394</td>\n",
       "    </tr>\n",
       "    <tr>\n",
       "      <th>5</th>\n",
       "      <td>0.000999</td>\n",
       "      <td>0.001227</td>\n",
       "      <td>0.603848</td>\n",
       "      <td>0.403984</td>\n",
       "    </tr>\n",
       "    <tr>\n",
       "      <th>6</th>\n",
       "      <td>0.001009</td>\n",
       "      <td>0.000835</td>\n",
       "      <td>0.605811</td>\n",
       "      <td>0.676494</td>\n",
       "    </tr>\n",
       "    <tr>\n",
       "      <th>7</th>\n",
       "      <td>0.000978</td>\n",
       "      <td>0.000956</td>\n",
       "      <td>0.613663</td>\n",
       "      <td>0.619124</td>\n",
       "    </tr>\n",
       "    <tr>\n",
       "      <th>8</th>\n",
       "      <td>0.000986</td>\n",
       "      <td>0.000997</td>\n",
       "      <td>0.610522</td>\n",
       "      <td>0.639044</td>\n",
       "    </tr>\n",
       "    <tr>\n",
       "      <th>9</th>\n",
       "      <td>0.000999</td>\n",
       "      <td>0.000972</td>\n",
       "      <td>0.612878</td>\n",
       "      <td>0.631873</td>\n",
       "    </tr>\n",
       "    <tr>\n",
       "      <th>10</th>\n",
       "      <td>0.000959</td>\n",
       "      <td>0.000794</td>\n",
       "      <td>0.604633</td>\n",
       "      <td>0.662948</td>\n",
       "    </tr>\n",
       "    <tr>\n",
       "      <th>11</th>\n",
       "      <td>0.000962</td>\n",
       "      <td>0.000925</td>\n",
       "      <td>0.610915</td>\n",
       "      <td>0.632669</td>\n",
       "    </tr>\n",
       "    <tr>\n",
       "      <th>12</th>\n",
       "      <td>0.000985</td>\n",
       "      <td>0.000855</td>\n",
       "      <td>0.599529</td>\n",
       "      <td>0.642231</td>\n",
       "    </tr>\n",
       "    <tr>\n",
       "      <th>13</th>\n",
       "      <td>0.000971</td>\n",
       "      <td>0.000958</td>\n",
       "      <td>0.616019</td>\n",
       "      <td>0.549004</td>\n",
       "    </tr>\n",
       "    <tr>\n",
       "      <th>14</th>\n",
       "      <td>0.000932</td>\n",
       "      <td>0.000840</td>\n",
       "      <td>0.630938</td>\n",
       "      <td>0.624701</td>\n",
       "    </tr>\n",
       "    <tr>\n",
       "      <th>15</th>\n",
       "      <td>0.000989</td>\n",
       "      <td>0.000932</td>\n",
       "      <td>0.605811</td>\n",
       "      <td>0.631076</td>\n",
       "    </tr>\n",
       "    <tr>\n",
       "      <th>16</th>\n",
       "      <td>0.000816</td>\n",
       "      <td>0.000931</td>\n",
       "      <td>0.638005</td>\n",
       "      <td>0.464542</td>\n",
       "    </tr>\n",
       "    <tr>\n",
       "      <th>17</th>\n",
       "      <td>0.000478</td>\n",
       "      <td>0.000553</td>\n",
       "      <td>0.747939</td>\n",
       "      <td>0.699602</td>\n",
       "    </tr>\n",
       "    <tr>\n",
       "      <th>18</th>\n",
       "      <td>0.000428</td>\n",
       "      <td>0.000292</td>\n",
       "      <td>0.764821</td>\n",
       "      <td>0.854980</td>\n",
       "    </tr>\n",
       "    <tr>\n",
       "      <th>19</th>\n",
       "      <td>0.000380</td>\n",
       "      <td>0.000819</td>\n",
       "      <td>0.798194</td>\n",
       "      <td>0.428685</td>\n",
       "    </tr>\n",
       "    <tr>\n",
       "      <th>20</th>\n",
       "      <td>0.000371</td>\n",
       "      <td>0.000497</td>\n",
       "      <td>0.802513</td>\n",
       "      <td>0.607171</td>\n",
       "    </tr>\n",
       "    <tr>\n",
       "      <th>21</th>\n",
       "      <td>0.000333</td>\n",
       "      <td>0.000369</td>\n",
       "      <td>0.823714</td>\n",
       "      <td>0.725896</td>\n",
       "    </tr>\n",
       "    <tr>\n",
       "      <th>22</th>\n",
       "      <td>0.000310</td>\n",
       "      <td>0.000196</td>\n",
       "      <td>0.829211</td>\n",
       "      <td>0.896414</td>\n",
       "    </tr>\n",
       "    <tr>\n",
       "      <th>23</th>\n",
       "      <td>0.000280</td>\n",
       "      <td>0.000146</td>\n",
       "      <td>0.849627</td>\n",
       "      <td>0.930677</td>\n",
       "    </tr>\n",
       "    <tr>\n",
       "      <th>24</th>\n",
       "      <td>0.000255</td>\n",
       "      <td>0.000352</td>\n",
       "      <td>0.867687</td>\n",
       "      <td>0.678088</td>\n",
       "    </tr>\n",
       "    <tr>\n",
       "      <th>25</th>\n",
       "      <td>0.000256</td>\n",
       "      <td>0.000159</td>\n",
       "      <td>0.868865</td>\n",
       "      <td>0.926693</td>\n",
       "    </tr>\n",
       "  </tbody>\n",
       "</table>\n",
       "</div>"
      ],
      "text/plain": [
       "    Loss_train  Loss_test  Acc_train  Acc_test\n",
       "0     0.003447   0.000821   0.537888  0.645418\n",
       "1     0.001069   0.001198   0.589713  0.519522\n",
       "2     0.001037   0.001095   0.600314  0.545817\n",
       "3     0.000980   0.000981   0.612093  0.637450\n",
       "4     0.000969   0.001157   0.614056  0.551394\n",
       "5     0.000999   0.001227   0.603848  0.403984\n",
       "6     0.001009   0.000835   0.605811  0.676494\n",
       "7     0.000978   0.000956   0.613663  0.619124\n",
       "8     0.000986   0.000997   0.610522  0.639044\n",
       "9     0.000999   0.000972   0.612878  0.631873\n",
       "10    0.000959   0.000794   0.604633  0.662948\n",
       "11    0.000962   0.000925   0.610915  0.632669\n",
       "12    0.000985   0.000855   0.599529  0.642231\n",
       "13    0.000971   0.000958   0.616019  0.549004\n",
       "14    0.000932   0.000840   0.630938  0.624701\n",
       "15    0.000989   0.000932   0.605811  0.631076\n",
       "16    0.000816   0.000931   0.638005  0.464542\n",
       "17    0.000478   0.000553   0.747939  0.699602\n",
       "18    0.000428   0.000292   0.764821  0.854980\n",
       "19    0.000380   0.000819   0.798194  0.428685\n",
       "20    0.000371   0.000497   0.802513  0.607171\n",
       "21    0.000333   0.000369   0.823714  0.725896\n",
       "22    0.000310   0.000196   0.829211  0.896414\n",
       "23    0.000280   0.000146   0.849627  0.930677\n",
       "24    0.000255   0.000352   0.867687  0.678088\n",
       "25    0.000256   0.000159   0.868865  0.926693"
      ]
     },
     "execution_count": 30,
     "metadata": {},
     "output_type": "execute_result"
    }
   ],
   "source": [
    "resultados"
   ]
  },
  {
   "cell_type": "code",
   "execution_count": 35,
   "id": "26acf922-b6d1-404c-8ae7-59ec234092ba",
   "metadata": {},
   "outputs": [
    {
     "data": {
      "text/plain": [
       "<matplotlib.legend.Legend at 0x3027223d0>"
      ]
     },
     "execution_count": 35,
     "metadata": {},
     "output_type": "execute_result"
    },
    {
     "data": {
      "image/png": "[encoded data removed]",
      "text/plain": [
       "<Figure size 640x480 with 1 Axes>"
      ]
     },
     "metadata": {},
     "output_type": "display_data"
    }
   ],
   "source": [
    "plt.plot(range(len(resultados)),resultados.iloc[:,0],resultados.iloc[:,1])\n",
    "plt.grid()\n",
    "plt.legend(labels=[\"Loss Train\",\"Loss test\"])"
   ]
  },
  {
   "cell_type": "code",
   "execution_count": 36,
   "id": "b84d1bd3-337f-4b88-b172-3cd23a6bacdb",
   "metadata": {},
   "outputs": [
    {
     "data": {
      "text/plain": [
       "<matplotlib.legend.Legend at 0x3027d6450>"
      ]
     },
     "execution_count": 36,
     "metadata": {},
     "output_type": "execute_result"
    },
    {
     "data": {
      "image/png": "[encoded data removed]",
      "text/plain": [
       "<Figure size 640x480 with 1 Axes>"
      ]
     },
     "metadata": {},
     "output_type": "display_data"
    }
   ],
   "source": [
    "plt.plot(range(len(resultados)),resultados.iloc[:,2],resultados.iloc[:,3])\n",
    "plt.grid()\n",
    "plt.legend(labels=[\"ACC Train\",\"ACC test\"])"
   ]
  },
  {
   "cell_type": "markdown",
   "id": "58efc25b-e815-4071-ad5e-a809e22096a3",
   "metadata": {},
   "source": [
    "## LSTM"
   ]
  },
  {
   "cell_type": "code",
   "execution_count": 37,
   "id": "53d17416-a213-4db7-84a6-1e914b97bbb1",
   "metadata": {},
   "outputs": [],
   "source": [
    "class LSTM_class(nn.Module):\n",
    "    def __init__(self, input_size=1, hidden_size=5, num_layers=1, output_size=1):\n",
    "        super().__init__()\n",
    "        self.input_size=input_size\n",
    "        self.hidden_size = hidden_size\n",
    "        self.num_layers =num_layers\n",
    "        \n",
    "        self.hidden_layer = nn.LSTM(input_size=self.input_size, hidden_size =self.hidden_size, num_layers=self.num_layers,batch_first=True)\n",
    "        self.output_layer = nn.Linear(self.hidden_size, output_size)\n",
    "        \n",
    "    def forward(self, x):\n",
    "        batch_size = x.size(0)\n",
    "        h0 = torch.zeros(self.num_layers, batch_size, self.hidden_size).to(device)\n",
    "        c0 = torch.zeros(self.num_layers,batch_size,self.hidden_size).to(device)\n",
    "        out, (h,c) = self.hidden_layer(x, (h0,c0))\n",
    "        output = self.output_layer(out[:, -1, :])\n",
    "        return output"
   ]
  },
  {
   "cell_type": "code",
   "execution_count": 38,
   "id": "c37f18ee-f4b8-41cb-b004-0ecd76d16065",
   "metadata": {},
   "outputs": [],
   "source": [
    "model = LSTM_class(input_size=1, hidden_size=5, num_layers=2, output_size=1).to(device)"
   ]
  },
  {
   "cell_type": "code",
   "execution_count": 39,
   "id": "e503c6bf-c0cf-4b64-a2c5-641c8aa93b83",
   "metadata": {},
   "outputs": [],
   "source": [
    "learning_rate = 0.001\n",
    "num_epochs = 50\n",
    "loss_function = nn.MSELoss()\n",
    "optimizer = torch.optim.Adam(model.parameters(), lr=learning_rate)"
   ]
  },
  {
   "cell_type": "code",
   "execution_count": 40,
   "id": "a0c782bd-f216-49a0-ad1e-57cc166e5b0a",
   "metadata": {},
   "outputs": [],
   "source": [
    "resultados=pd.DataFrame(columns=[\"Loss_train\",\"Loss_test\",\"Acc_train\",\"Acc_test\"])"
   ]
  },
  {
   "cell_type": "code",
   "execution_count": 41,
   "id": "3b8a46c0-9912-4fa4-af04-e53e6c2c91d7",
   "metadata": {
    "scrolled": true
   },
   "outputs": [
    {
     "name": "stdout",
     "output_type": "stream",
     "text": [
      "Epoch: 1\n"
     ]
    },
    {
     "name": "stderr",
     "output_type": "stream",
     "text": [
      "100%|██████████████████████████████████████| 2547/2547 [00:06<00:00, 422.79it/s]\n"
     ]
    },
    {
     "name": "stdout",
     "output_type": "stream",
     "text": [
      "Epoch: 2\n"
     ]
    },
    {
     "name": "stderr",
     "output_type": "stream",
     "text": [
      " 14%|█████▎                                 | 347/2547 [00:00<00:05, 421.63it/s]\n"
     ]
    },
    {
     "ename": "KeyboardInterrupt",
     "evalue": "",
     "output_type": "error",
     "traceback": [
      "\u001b[0;31m---------------------------------------------------------------------------\u001b[0m",
      "\u001b[0;31mKeyboardInterrupt\u001b[0m                         Traceback (most recent call last)",
      "Cell \u001b[0;32mIn[41], line 2\u001b[0m\n\u001b[1;32m      1\u001b[0m \u001b[38;5;28;01mfor\u001b[39;00m epoch \u001b[38;5;129;01min\u001b[39;00m \u001b[38;5;28mrange\u001b[39m(num_epochs):\n\u001b[0;32m----> 2\u001b[0m     val_train,a_train\u001b[38;5;241m=\u001b[39mtrain_one_epoch()\n\u001b[1;32m      3\u001b[0m     val_test,a_test\u001b[38;5;241m=\u001b[39mvalidate_one_epoch()\n\u001b[1;32m      5\u001b[0m     resultados\u001b[38;5;241m.\u001b[39mloc[epoch]\u001b[38;5;241m=\u001b[39m(val_train,val_test,a_train,a_test)\n",
      "Cell \u001b[0;32mIn[25], line 6\u001b[0m, in \u001b[0;36mtrain_one_epoch\u001b[0;34m()\u001b[0m\n\u001b[1;32m      4\u001b[0m running_loss \u001b[38;5;241m=\u001b[39m \u001b[38;5;241m0.0\u001b[39m\n\u001b[1;32m      5\u001b[0m accuracy \u001b[38;5;241m=\u001b[39m \u001b[38;5;241m0.0\u001b[39m\n\u001b[0;32m----> 6\u001b[0m \u001b[38;5;28;01mfor\u001b[39;00m x_batch, y_batch \u001b[38;5;129;01min\u001b[39;00m tqdm(train_loader):\n\u001b[1;32m      7\u001b[0m     output \u001b[38;5;241m=\u001b[39m model(x_batch)\n\u001b[1;32m      8\u001b[0m     loss \u001b[38;5;241m=\u001b[39m loss_function(output, y_batch)\n",
      "File \u001b[0;32m/opt/anaconda3/lib/python3.11/site-packages/tqdm/std.py:1178\u001b[0m, in \u001b[0;36mtqdm.__iter__\u001b[0;34m(self)\u001b[0m\n\u001b[1;32m   1175\u001b[0m time \u001b[38;5;241m=\u001b[39m \u001b[38;5;28mself\u001b[39m\u001b[38;5;241m.\u001b[39m_time\n\u001b[1;32m   1177\u001b[0m \u001b[38;5;28;01mtry\u001b[39;00m:\n\u001b[0;32m-> 1178\u001b[0m     \u001b[38;5;28;01mfor\u001b[39;00m obj \u001b[38;5;129;01min\u001b[39;00m iterable:\n\u001b[1;32m   1179\u001b[0m         \u001b[38;5;28;01myield\u001b[39;00m obj\n\u001b[1;32m   1180\u001b[0m         \u001b[38;5;66;03m# Update and possibly print the progressbar.\u001b[39;00m\n\u001b[1;32m   1181\u001b[0m         \u001b[38;5;66;03m# Note: does not call self.update(1) for speed optimisation.\u001b[39;00m\n",
      "File \u001b[0;32m/opt/anaconda3/lib/python3.11/site-packages/torch/utils/data/dataloader.py:701\u001b[0m, in \u001b[0;36m_BaseDataLoaderIter.__next__\u001b[0;34m(self)\u001b[0m\n\u001b[1;32m    698\u001b[0m \u001b[38;5;28;01mif\u001b[39;00m \u001b[38;5;28mself\u001b[39m\u001b[38;5;241m.\u001b[39m_sampler_iter \u001b[38;5;129;01mis\u001b[39;00m \u001b[38;5;28;01mNone\u001b[39;00m:\n\u001b[1;32m    699\u001b[0m     \u001b[38;5;66;03m# TODO(https://github.com/pytorch/pytorch/issues/76750)\u001b[39;00m\n\u001b[1;32m    700\u001b[0m     \u001b[38;5;28mself\u001b[39m\u001b[38;5;241m.\u001b[39m_reset()  \u001b[38;5;66;03m# type: ignore[call-arg]\u001b[39;00m\n\u001b[0;32m--> 701\u001b[0m data \u001b[38;5;241m=\u001b[39m \u001b[38;5;28mself\u001b[39m\u001b[38;5;241m.\u001b[39m_next_data()\n\u001b[1;32m    702\u001b[0m \u001b[38;5;28mself\u001b[39m\u001b[38;5;241m.\u001b[39m_num_yielded \u001b[38;5;241m+\u001b[39m\u001b[38;5;241m=\u001b[39m \u001b[38;5;241m1\u001b[39m\n\u001b[1;32m    703\u001b[0m \u001b[38;5;28;01mif\u001b[39;00m (\n\u001b[1;32m    704\u001b[0m     \u001b[38;5;28mself\u001b[39m\u001b[38;5;241m.\u001b[39m_dataset_kind \u001b[38;5;241m==\u001b[39m _DatasetKind\u001b[38;5;241m.\u001b[39mIterable\n\u001b[1;32m    705\u001b[0m     \u001b[38;5;129;01mand\u001b[39;00m \u001b[38;5;28mself\u001b[39m\u001b[38;5;241m.\u001b[39m_IterableDataset_len_called \u001b[38;5;129;01mis\u001b[39;00m \u001b[38;5;129;01mnot\u001b[39;00m \u001b[38;5;28;01mNone\u001b[39;00m\n\u001b[1;32m    706\u001b[0m     \u001b[38;5;129;01mand\u001b[39;00m \u001b[38;5;28mself\u001b[39m\u001b[38;5;241m.\u001b[39m_num_yielded \u001b[38;5;241m>\u001b[39m \u001b[38;5;28mself\u001b[39m\u001b[38;5;241m.\u001b[39m_IterableDataset_len_called\n\u001b[1;32m    707\u001b[0m ):\n",
      "File \u001b[0;32m/opt/anaconda3/lib/python3.11/site-packages/torch/utils/data/dataloader.py:757\u001b[0m, in \u001b[0;36m_SingleProcessDataLoaderIter._next_data\u001b[0;34m(self)\u001b[0m\n\u001b[1;32m    755\u001b[0m \u001b[38;5;28;01mdef\u001b[39;00m \u001b[38;5;21m_next_data\u001b[39m(\u001b[38;5;28mself\u001b[39m):\n\u001b[1;32m    756\u001b[0m     index \u001b[38;5;241m=\u001b[39m \u001b[38;5;28mself\u001b[39m\u001b[38;5;241m.\u001b[39m_next_index()  \u001b[38;5;66;03m# may raise StopIteration\u001b[39;00m\n\u001b[0;32m--> 757\u001b[0m     data \u001b[38;5;241m=\u001b[39m \u001b[38;5;28mself\u001b[39m\u001b[38;5;241m.\u001b[39m_dataset_fetcher\u001b[38;5;241m.\u001b[39mfetch(index)  \u001b[38;5;66;03m# may raise StopIteration\u001b[39;00m\n\u001b[1;32m    758\u001b[0m     \u001b[38;5;28;01mif\u001b[39;00m \u001b[38;5;28mself\u001b[39m\u001b[38;5;241m.\u001b[39m_pin_memory:\n\u001b[1;32m    759\u001b[0m         data \u001b[38;5;241m=\u001b[39m _utils\u001b[38;5;241m.\u001b[39mpin_memory\u001b[38;5;241m.\u001b[39mpin_memory(data, \u001b[38;5;28mself\u001b[39m\u001b[38;5;241m.\u001b[39m_pin_memory_device)\n",
      "File \u001b[0;32m/opt/anaconda3/lib/python3.11/site-packages/torch/utils/data/_utils/fetch.py:55\u001b[0m, in \u001b[0;36m_MapDatasetFetcher.fetch\u001b[0;34m(self, possibly_batched_index)\u001b[0m\n\u001b[1;32m     53\u001b[0m \u001b[38;5;28;01melse\u001b[39;00m:\n\u001b[1;32m     54\u001b[0m     data \u001b[38;5;241m=\u001b[39m \u001b[38;5;28mself\u001b[39m\u001b[38;5;241m.\u001b[39mdataset[possibly_batched_index]\n\u001b[0;32m---> 55\u001b[0m \u001b[38;5;28;01mreturn\u001b[39;00m \u001b[38;5;28mself\u001b[39m\u001b[38;5;241m.\u001b[39mcollate_fn(data)\n",
      "File \u001b[0;32m/opt/anaconda3/lib/python3.11/site-packages/torch/utils/data/_utils/collate.py:398\u001b[0m, in \u001b[0;36mdefault_collate\u001b[0;34m(batch)\u001b[0m\n\u001b[1;32m    337\u001b[0m \u001b[38;5;28;01mdef\u001b[39;00m \u001b[38;5;21mdefault_collate\u001b[39m(batch):\n\u001b[1;32m    338\u001b[0m \u001b[38;5;250m    \u001b[39m\u001b[38;5;124mr\u001b[39m\u001b[38;5;124;03m\"\"\"\u001b[39;00m\n\u001b[1;32m    339\u001b[0m \u001b[38;5;124;03m    Take in a batch of data and put the elements within the batch into a tensor with an additional outer dimension - batch size.\u001b[39;00m\n\u001b[1;32m    340\u001b[0m \n\u001b[0;32m   (...)\u001b[0m\n\u001b[1;32m    396\u001b[0m \u001b[38;5;124;03m        >>> default_collate(batch)  # Handle `CustomType` automatically\u001b[39;00m\n\u001b[1;32m    397\u001b[0m \u001b[38;5;124;03m    \"\"\"\u001b[39;00m\n\u001b[0;32m--> 398\u001b[0m     \u001b[38;5;28;01mreturn\u001b[39;00m collate(batch, collate_fn_map\u001b[38;5;241m=\u001b[39mdefault_collate_fn_map)\n",
      "File \u001b[0;32m/opt/anaconda3/lib/python3.11/site-packages/torch/utils/data/_utils/collate.py:211\u001b[0m, in \u001b[0;36mcollate\u001b[0;34m(batch, collate_fn_map)\u001b[0m\n\u001b[1;32m    208\u001b[0m transposed \u001b[38;5;241m=\u001b[39m \u001b[38;5;28mlist\u001b[39m(\u001b[38;5;28mzip\u001b[39m(\u001b[38;5;241m*\u001b[39mbatch))  \u001b[38;5;66;03m# It may be accessed twice, so we use a list.\u001b[39;00m\n\u001b[1;32m    210\u001b[0m \u001b[38;5;28;01mif\u001b[39;00m \u001b[38;5;28misinstance\u001b[39m(elem, \u001b[38;5;28mtuple\u001b[39m):\n\u001b[0;32m--> 211\u001b[0m     \u001b[38;5;28;01mreturn\u001b[39;00m [\n\u001b[1;32m    212\u001b[0m         collate(samples, collate_fn_map\u001b[38;5;241m=\u001b[39mcollate_fn_map)\n\u001b[1;32m    213\u001b[0m         \u001b[38;5;28;01mfor\u001b[39;00m samples \u001b[38;5;129;01min\u001b[39;00m transposed\n\u001b[1;32m    214\u001b[0m     ]  \u001b[38;5;66;03m# Backwards compatibility.\u001b[39;00m\n\u001b[1;32m    215\u001b[0m \u001b[38;5;28;01melse\u001b[39;00m:\n\u001b[1;32m    216\u001b[0m     \u001b[38;5;28;01mtry\u001b[39;00m:\n",
      "File \u001b[0;32m/opt/anaconda3/lib/python3.11/site-packages/torch/utils/data/_utils/collate.py:212\u001b[0m, in \u001b[0;36m<listcomp>\u001b[0;34m(.0)\u001b[0m\n\u001b[1;32m    208\u001b[0m transposed \u001b[38;5;241m=\u001b[39m \u001b[38;5;28mlist\u001b[39m(\u001b[38;5;28mzip\u001b[39m(\u001b[38;5;241m*\u001b[39mbatch))  \u001b[38;5;66;03m# It may be accessed twice, so we use a list.\u001b[39;00m\n\u001b[1;32m    210\u001b[0m \u001b[38;5;28;01mif\u001b[39;00m \u001b[38;5;28misinstance\u001b[39m(elem, \u001b[38;5;28mtuple\u001b[39m):\n\u001b[1;32m    211\u001b[0m     \u001b[38;5;28;01mreturn\u001b[39;00m [\n\u001b[0;32m--> 212\u001b[0m         collate(samples, collate_fn_map\u001b[38;5;241m=\u001b[39mcollate_fn_map)\n\u001b[1;32m    213\u001b[0m         \u001b[38;5;28;01mfor\u001b[39;00m samples \u001b[38;5;129;01min\u001b[39;00m transposed\n\u001b[1;32m    214\u001b[0m     ]  \u001b[38;5;66;03m# Backwards compatibility.\u001b[39;00m\n\u001b[1;32m    215\u001b[0m \u001b[38;5;28;01melse\u001b[39;00m:\n\u001b[1;32m    216\u001b[0m     \u001b[38;5;28;01mtry\u001b[39;00m:\n",
      "File \u001b[0;32m/opt/anaconda3/lib/python3.11/site-packages/torch/utils/data/_utils/collate.py:155\u001b[0m, in \u001b[0;36mcollate\u001b[0;34m(batch, collate_fn_map)\u001b[0m\n\u001b[1;32m    153\u001b[0m \u001b[38;5;28;01mif\u001b[39;00m collate_fn_map \u001b[38;5;129;01mis\u001b[39;00m \u001b[38;5;129;01mnot\u001b[39;00m \u001b[38;5;28;01mNone\u001b[39;00m:\n\u001b[1;32m    154\u001b[0m     \u001b[38;5;28;01mif\u001b[39;00m elem_type \u001b[38;5;129;01min\u001b[39;00m collate_fn_map:\n\u001b[0;32m--> 155\u001b[0m         \u001b[38;5;28;01mreturn\u001b[39;00m collate_fn_map[elem_type](batch, collate_fn_map\u001b[38;5;241m=\u001b[39mcollate_fn_map)\n\u001b[1;32m    157\u001b[0m     \u001b[38;5;28;01mfor\u001b[39;00m collate_type \u001b[38;5;129;01min\u001b[39;00m collate_fn_map:\n\u001b[1;32m    158\u001b[0m         \u001b[38;5;28;01mif\u001b[39;00m \u001b[38;5;28misinstance\u001b[39m(elem, collate_type):\n",
      "File \u001b[0;32m/opt/anaconda3/lib/python3.11/site-packages/torch/utils/data/_utils/collate.py:272\u001b[0m, in \u001b[0;36mcollate_tensor_fn\u001b[0;34m(batch, collate_fn_map)\u001b[0m\n\u001b[1;32m    270\u001b[0m     storage \u001b[38;5;241m=\u001b[39m elem\u001b[38;5;241m.\u001b[39m_typed_storage()\u001b[38;5;241m.\u001b[39m_new_shared(numel, device\u001b[38;5;241m=\u001b[39melem\u001b[38;5;241m.\u001b[39mdevice)\n\u001b[1;32m    271\u001b[0m     out \u001b[38;5;241m=\u001b[39m elem\u001b[38;5;241m.\u001b[39mnew(storage)\u001b[38;5;241m.\u001b[39mresize_(\u001b[38;5;28mlen\u001b[39m(batch), \u001b[38;5;241m*\u001b[39m\u001b[38;5;28mlist\u001b[39m(elem\u001b[38;5;241m.\u001b[39msize()))\n\u001b[0;32m--> 272\u001b[0m \u001b[38;5;28;01mreturn\u001b[39;00m torch\u001b[38;5;241m.\u001b[39mstack(batch, \u001b[38;5;241m0\u001b[39m, out\u001b[38;5;241m=\u001b[39mout)\n",
      "\u001b[0;31mKeyboardInterrupt\u001b[0m: "
     ]
    }
   ],
   "source": [
    "for epoch in range(num_epochs):\n",
    "    val_train,a_train=train_one_epoch()\n",
    "    val_test,a_test=validate_one_epoch()\n",
    "    \n",
    "    resultados.loc[epoch]=(val_train,val_test,a_train,a_test)"
   ]
  },
  {
   "cell_type": "code",
   "execution_count": null,
   "id": "96029d5f-4323-4c4e-a991-547c212d0670",
   "metadata": {
    "scrolled": true
   },
   "outputs": [],
   "source": [
    "resultados"
   ]
  },
  {
   "cell_type": "code",
   "execution_count": null,
   "id": "b2596db4-91f2-4e02-b1d1-b5678de85592",
   "metadata": {},
   "outputs": [],
   "source": [
    "plt.plot(range(num_epochs),resultados.iloc[:,0],resultados.iloc[:,1])\n",
    "plt.grid()\n",
    "plt.legend(labels=[\"Loss Train\",\"Loss test\"])"
   ]
  },
  {
   "cell_type": "code",
   "execution_count": null,
   "id": "51dab3c2-d3b7-47df-8bbc-fd6e3ca7b816",
   "metadata": {},
   "outputs": [],
   "source": [
    "plt.plot(range(50),resultados.iloc[:,2],resultados.iloc[:,3])\n",
    "plt.grid()\n",
    "plt.legend(labels=[\"ACC Train\",\"ACC test\"])"
   ]
  },
  {
   "cell_type": "code",
   "execution_count": null,
   "id": "76deab01-58b2-4049-9c18-ea1736e01138",
   "metadata": {},
   "outputs": [],
   "source": [
    "np.max(resultados.iloc[:,3])"
   ]
  },
  {
   "cell_type": "markdown",
   "id": "5cd9045f-85eb-400e-bbb2-f1ee2e3e8bc6",
   "metadata": {},
   "source": [
    "## GRU"
   ]
  },
  {
   "cell_type": "code",
   "execution_count": null,
   "id": "6d8a717a-64aa-4715-8e69-9d754c557f71",
   "metadata": {},
   "outputs": [],
   "source": [
    "class GRU_class(nn.Module):\n",
    "    def __init__(self, input_size=1, hidden_size=5, num_layers=1, output_size=1):\n",
    "        super().__init__()\n",
    "        self.input_size=input_size\n",
    "        self.hidden_size = hidden_size\n",
    "        self.num_layers =num_layers\n",
    "        \n",
    "        self.hidden_layer = nn.GRU(input_size=self.input_size, hidden_size =self.hidden_size, num_layers=self.num_layers,batch_first=True)\n",
    "        self.output_layer = nn.Linear(self.hidden_size, output_size)\n",
    "        \n",
    "    def forward(self, x):\n",
    "        batch_size = x.size(0)\n",
    "        h0 = torch.zeros(self.num_layers, batch_size, self.hidden_size).to(device)\n",
    "        out, h = self.hidden_layer(x, h0)\n",
    "        output = self.output_layer(out[:, -1, :])\n",
    "        return output"
   ]
  },
  {
   "cell_type": "code",
   "execution_count": null,
   "id": "38463b95-5fee-419b-bb96-79e31c889071",
   "metadata": {},
   "outputs": [],
   "source": [
    "model = GRU_class(input_size=1, hidden_size=5, num_layers=2, output_size=1).to(device)"
   ]
  },
  {
   "cell_type": "code",
   "execution_count": null,
   "id": "34911636-2e2b-4959-96df-cfba1735b04c",
   "metadata": {},
   "outputs": [],
   "source": [
    "learning_rate = 0.001\n",
    "num_epochs = 50\n",
    "loss_function = nn.MSELoss()\n",
    "optimizer = torch.optim.Adam(model.parameters(), lr=learning_rate)"
   ]
  },
  {
   "cell_type": "code",
   "execution_count": null,
   "id": "0b3dea48-8990-4d38-935f-f69fbee3aed4",
   "metadata": {},
   "outputs": [],
   "source": [
    "resultados=pd.DataFrame(columns=[\"Loss_train\",\"Loss_test\",\"Acc_train\",\"Acc_test\"])"
   ]
  },
  {
   "cell_type": "code",
   "execution_count": null,
   "id": "3991ce1a-4b33-4d99-9e1d-54ad56c2e90d",
   "metadata": {
    "scrolled": true
   },
   "outputs": [],
   "source": [
    "for epoch in range(num_epochs):\n",
    "    val_train,a_train=train_one_epoch()\n",
    "    val_test,a_test=validate_one_epoch()\n",
    "    \n",
    "    resultados.loc[epoch]=(val_train,val_test,a_train,a_test)"
   ]
  },
  {
   "cell_type": "code",
   "execution_count": null,
   "id": "18e12704-9a6e-4af4-bbdf-2473d777c123",
   "metadata": {},
   "outputs": [],
   "source": [
    "resultados"
   ]
  },
  {
   "cell_type": "code",
   "execution_count": null,
   "id": "26c545c0-5b59-4319-a973-4e15669b4e40",
   "metadata": {},
   "outputs": [],
   "source": [
    "plt.plot(range(num_epochs),resultados.iloc[:,0],resultados.iloc[:,1])\n",
    "plt.grid()\n",
    "plt.legend(labels=[\"Loss Train\",\"Loss test\"])"
   ]
  },
  {
   "cell_type": "code",
   "execution_count": null,
   "id": "00c12ff5-45e3-4064-abf3-e8b2e45cea54",
   "metadata": {},
   "outputs": [],
   "source": [
    "plt.plot(range(50),resultados.iloc[:,2],resultados.iloc[:,3])\n",
    "plt.grid()\n",
    "plt.legend(labels=[\"ACC Train\",\"ACC test\"])"
   ]
  },
  {
   "cell_type": "code",
   "execution_count": null,
   "id": "877f2449-f8a5-45d7-b41f-7902c3cf4453",
   "metadata": {},
   "outputs": [],
   "source": [
    "np.max(resultados.iloc[:,3])"
   ]
  }
 ],
 "metadata": {
  "kernelspec": {
   "display_name": "Python 3 (ipykernel)",
   "language": "python",
   "name": "python3"
  },
  "language_info": {
   "codemirror_mode": {
    "name": "ipython",
    "version": 3
   },
   "file_extension": ".py",
   "mimetype": "text/x-python",
   "name": "python",
   "nbconvert_exporter": "python",
   "pygments_lexer": "ipython3",
   "version": "3.11.8"
  }
 },
 "nbformat": 4,
 "nbformat_minor": 5
}
